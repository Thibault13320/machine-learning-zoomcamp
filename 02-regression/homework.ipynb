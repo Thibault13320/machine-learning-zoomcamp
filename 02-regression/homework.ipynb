{
  "nbformat": 4,
  "nbformat_minor": 0,
  "metadata": {
    "colab": {
      "provenance": [],
      "authorship_tag": "ABX9TyOk+zDnYFDE0nThokarnI6Z",
      "include_colab_link": true
    },
    "kernelspec": {
      "name": "python3",
      "display_name": "Python 3"
    },
    "language_info": {
      "name": "python"
    }
  },
  "cells": [
    {
      "cell_type": "markdown",
      "metadata": {
        "id": "view-in-github",
        "colab_type": "text"
      },
      "source": [
        "<a href=\"https://colab.research.google.com/github/Thibault13320/machine-learning-zoomcamp/blob/main/02-regression/homework.ipynb\" target=\"_parent\"><img src=\"https://colab.research.google.com/assets/colab-badge.svg\" alt=\"Open In Colab\"/></a>"
      ]
    },
    {
      "cell_type": "code",
      "execution_count": 4,
      "metadata": {
        "id": "3eUG97Ynprys"
      },
      "outputs": [],
      "source": [
        "#Setting up the environment\n",
        "import pandas as pd\n",
        "import numpy as np\n",
        "import matplotlib.pyplot as plt\n",
        "import seaborn as sns"
      ]
    },
    {
      "cell_type": "code",
      "source": [
        "# Download the dataset\n",
        "!wget https://raw.githubusercontent.com/alexeygrigorev/datasets/master/car_fuel_efficiency.csv"
      ],
      "metadata": {
        "colab": {
          "base_uri": "https://localhost:8080/"
        },
        "id": "6FtwmTunqUSz",
        "outputId": "68b9f0b7-0f65-43c1-abf3-6c57278d2999"
      },
      "execution_count": 5,
      "outputs": [
        {
          "output_type": "stream",
          "name": "stdout",
          "text": [
            "--2025-10-04 17:33:08--  https://raw.githubusercontent.com/alexeygrigorev/datasets/master/car_fuel_efficiency.csv\n",
            "Resolving raw.githubusercontent.com (raw.githubusercontent.com)... 185.199.108.133, 185.199.109.133, 185.199.110.133, ...\n",
            "Connecting to raw.githubusercontent.com (raw.githubusercontent.com)|185.199.108.133|:443... connected.\n",
            "HTTP request sent, awaiting response... 200 OK\n",
            "Length: 874188 (854K) [text/plain]\n",
            "Saving to: ‘car_fuel_efficiency.csv’\n",
            "\n",
            "car_fuel_efficiency 100%[===================>] 853.70K  --.-KB/s    in 0.1s    \n",
            "\n",
            "2025-10-04 17:33:09 (5.80 MB/s) - ‘car_fuel_efficiency.csv’ saved [874188/874188]\n",
            "\n"
          ]
        }
      ]
    },
    {
      "cell_type": "code",
      "source": [
        "# Load the dataset\n",
        "df = pd.read_csv('car_fuel_efficiency.csv')"
      ],
      "metadata": {
        "id": "3mJ_bnF4qYFy"
      },
      "execution_count": 6,
      "outputs": []
    },
    {
      "cell_type": "code",
      "source": [
        "print(\"Dataset loaded successfully!\")\n",
        "print(f\"Dataset shape: {df.shape}\")\n",
        "print(\"\\nFirst few rows:\")\n",
        "print(df.head())\n"
      ],
      "metadata": {
        "colab": {
          "base_uri": "https://localhost:8080/"
        },
        "id": "sh-IYC7zqaGL",
        "outputId": "bfd3e795-d1bb-4767-a53a-dd3edbd181b0"
      },
      "execution_count": 7,
      "outputs": [
        {
          "output_type": "stream",
          "name": "stdout",
          "text": [
            "Dataset loaded successfully!\n",
            "Dataset shape: (9704, 11)\n",
            "\n",
            "First few rows:\n",
            "   engine_displacement  num_cylinders  horsepower  vehicle_weight  \\\n",
            "0                  170            3.0       159.0     3413.433759   \n",
            "1                  130            5.0        97.0     3149.664934   \n",
            "2                  170            NaN        78.0     3079.038997   \n",
            "3                  220            4.0         NaN     2542.392402   \n",
            "4                  210            1.0       140.0     3460.870990   \n",
            "\n",
            "   acceleration  model_year  origin fuel_type         drivetrain  num_doors  \\\n",
            "0          17.7        2003  Europe  Gasoline    All-wheel drive        0.0   \n",
            "1          17.8        2007     USA  Gasoline  Front-wheel drive        0.0   \n",
            "2          15.1        2018  Europe  Gasoline  Front-wheel drive        0.0   \n",
            "3          20.2        2009     USA    Diesel    All-wheel drive        2.0   \n",
            "4          14.4        2009  Europe  Gasoline    All-wheel drive        2.0   \n",
            "\n",
            "   fuel_efficiency_mpg  \n",
            "0            13.231729  \n",
            "1            13.688217  \n",
            "2            14.246341  \n",
            "3            16.912736  \n",
            "4            12.488369  \n"
          ]
        }
      ]
    },
    {
      "cell_type": "code",
      "source": [
        "print(\"\\n\" + \"=\"*50)\n",
        "print(\"PREPARING THE DATASET\")\n",
        "print(\"=\"*50)"
      ],
      "metadata": {
        "colab": {
          "base_uri": "https://localhost:8080/"
        },
        "id": "nzzmpulBqbq9",
        "outputId": "c5776b79-1956-44b6-a5f6-a2bb9bace1a7"
      },
      "execution_count": 8,
      "outputs": [
        {
          "output_type": "stream",
          "name": "stdout",
          "text": [
            "\n",
            "==================================================\n",
            "PREPARING THE DATASET\n",
            "==================================================\n"
          ]
        }
      ]
    },
    {
      "cell_type": "code",
      "source": [
        "# Select only the required columns\n",
        "columns_to_use = ['engine_displacement', 'horsepower', 'vehicle_weight', 'model_year', 'fuel_efficiency_mpg']\n",
        "df = df[columns_to_use]\n",
        "\n",
        "print(f\"Selected columns: {columns_to_use}\")\n",
        "print(f\"New dataset shape: {df.shape}\")\n",
        "print(\"\\nDataset info:\")\n",
        "print(df.info())\n"
      ],
      "metadata": {
        "colab": {
          "base_uri": "https://localhost:8080/"
        },
        "id": "1Z43_-rFqlVP",
        "outputId": "e2bd8804-791d-4183-f7ce-5e0d602c1b16"
      },
      "execution_count": 9,
      "outputs": [
        {
          "output_type": "stream",
          "name": "stdout",
          "text": [
            "Selected columns: ['engine_displacement', 'horsepower', 'vehicle_weight', 'model_year', 'fuel_efficiency_mpg']\n",
            "New dataset shape: (9704, 5)\n",
            "\n",
            "Dataset info:\n",
            "<class 'pandas.core.frame.DataFrame'>\n",
            "RangeIndex: 9704 entries, 0 to 9703\n",
            "Data columns (total 5 columns):\n",
            " #   Column               Non-Null Count  Dtype  \n",
            "---  ------               --------------  -----  \n",
            " 0   engine_displacement  9704 non-null   int64  \n",
            " 1   horsepower           8996 non-null   float64\n",
            " 2   vehicle_weight       9704 non-null   float64\n",
            " 3   model_year           9704 non-null   int64  \n",
            " 4   fuel_efficiency_mpg  9704 non-null   float64\n",
            "dtypes: float64(3), int64(2)\n",
            "memory usage: 379.2 KB\n",
            "None\n"
          ]
        }
      ]
    },
    {
      "cell_type": "code",
      "source": [
        "print(\"\\n\" + \"=\"*50)\n",
        "print(\"EDA - Fuel Efficiency Distribution\")\n",
        "print(\"=\"*50)\n",
        "\n",
        "print(\"\\nFuel efficiency statistics:\")\n",
        "print(df['fuel_efficiency_mpg'].describe())"
      ],
      "metadata": {
        "colab": {
          "base_uri": "https://localhost:8080/"
        },
        "id": "8IOprSVnqog5",
        "outputId": "8a64497e-8423-4fc6-9725-073f99ec25d2"
      },
      "execution_count": 10,
      "outputs": [
        {
          "output_type": "stream",
          "name": "stdout",
          "text": [
            "\n",
            "==================================================\n",
            "EDA - Fuel Efficiency Distribution\n",
            "==================================================\n",
            "\n",
            "Fuel efficiency statistics:\n",
            "count    9704.000000\n",
            "mean       14.985243\n",
            "std         2.556468\n",
            "min         6.200971\n",
            "25%        13.267459\n",
            "50%        15.006037\n",
            "75%        16.707965\n",
            "max        25.967222\n",
            "Name: fuel_efficiency_mpg, dtype: float64\n"
          ]
        }
      ]
    },
    {
      "cell_type": "code",
      "source": [
        "# Plot distribution\n",
        "plt.figure(figsize=(10, 6))\n",
        "plt.subplot(1, 2, 1)\n",
        "plt.hist(df['fuel_efficiency_mpg'], bins=50, edgecolor='black')\n",
        "plt.xlabel('Fuel Efficiency (MPG)')\n",
        "plt.ylabel('Frequency')\n",
        "plt.title('Distribution of Fuel Efficiency')\n",
        "\n",
        "plt.subplot(1, 2, 2)\n",
        "df['fuel_efficiency_mpg'].plot(kind='box')\n",
        "plt.ylabel('Fuel Efficiency (MPG)')\n",
        "plt.title('Boxplot of Fuel Efficiency')\n",
        "\n",
        "plt.tight_layout()\n",
        "plt.show()\n",
        "\n",
        "print(\"\\nDoes it have a long tail? Look at the histogram above.\")\n",
        "print(\"If the distribution is skewed with values extending far to one side, it has a long tail.\")"
      ],
      "metadata": {
        "colab": {
          "base_uri": "https://localhost:8080/",
          "height": 661
        },
        "id": "aLaGPbJSq2sy",
        "outputId": "58400bac-2276-4e98-be19-1c68fe1c63fd"
      },
      "execution_count": 11,
      "outputs": [
        {
          "output_type": "display_data",
          "data": {
            "text/plain": [
              "<Figure size 1000x600 with 2 Axes>"
            ],
            "image/png": "[encoded data removed]"
          },
          "metadata": {}
        },
        {
          "output_type": "stream",
          "name": "stdout",
          "text": [
            "\n",
            "Does it have a long tail? Look at the histogram above.\n",
            "If the distribution is skewed with values extending far to one side, it has a long tail.\n"
          ]
        }
      ]
    },
    {
      "cell_type": "code",
      "source": [
        "print(\"\\n\" + \"=\"*50)\n",
        "print(\"Question 1: Column with missing values\")\n",
        "print(\"=\"*50)\n",
        "\n",
        "missing_values = df.isnull().sum()\n",
        "print(\"\\nMissing values per column:\")\n",
        "print(missing_values)\n",
        "\n",
        "column_with_missing = missing_values[missing_values > 0].index[0]\n",
        "print(f\"\\nAnswer: '{column_with_missing}' has {missing_values[column_with_missing]} missing values\")"
      ],
      "metadata": {
        "colab": {
          "base_uri": "https://localhost:8080/"
        },
        "id": "M6A08ZeWq87h",
        "outputId": "5352d354-dd0b-4df4-af9d-90c1cd3f5fbe"
      },
      "execution_count": 12,
      "outputs": [
        {
          "output_type": "stream",
          "name": "stdout",
          "text": [
            "\n",
            "==================================================\n",
            "Question 1: Column with missing values\n",
            "==================================================\n",
            "\n",
            "Missing values per column:\n",
            "engine_displacement      0\n",
            "horsepower             708\n",
            "vehicle_weight           0\n",
            "model_year               0\n",
            "fuel_efficiency_mpg      0\n",
            "dtype: int64\n",
            "\n",
            "Answer: 'horsepower' has 708 missing values\n"
          ]
        }
      ]
    },
    {
      "cell_type": "code",
      "source": [
        "print(\"\\n\" + \"=\"*50)\n",
        "print(\"Question 2: Median of horsepower\")\n",
        "print(\"=\"*50)\n",
        "\n",
        "median_horsepower = df['horsepower'].median()\n",
        "print(f\"Median (50th percentile) of horsepower: {median_horsepower}\")"
      ],
      "metadata": {
        "colab": {
          "base_uri": "https://localhost:8080/"
        },
        "id": "yhnBT0BQrCy1",
        "outputId": "d7a91b1c-c7d4-4f8e-f923-82b93ed6605d"
      },
      "execution_count": 13,
      "outputs": [
        {
          "output_type": "stream",
          "name": "stdout",
          "text": [
            "\n",
            "==================================================\n",
            "Question 2: Median of horsepower\n",
            "==================================================\n",
            "Median (50th percentile) of horsepower: 149.0\n"
          ]
        }
      ]
    },
    {
      "cell_type": "code",
      "source": [
        "print(\"\\n\" + \"=\"*50)\n",
        "print(\"PREPARE AND SPLIT THE DATASET\")\n",
        "print(\"=\"*50)"
      ],
      "metadata": {
        "colab": {
          "base_uri": "https://localhost:8080/"
        },
        "id": "_NosT5FArGyU",
        "outputId": "269fb028-a366-43cb-c193-729238a5bb80"
      },
      "execution_count": 14,
      "outputs": [
        {
          "output_type": "stream",
          "name": "stdout",
          "text": [
            "\n",
            "==================================================\n",
            "PREPARE AND SPLIT THE DATASET\n",
            "==================================================\n"
          ]
        }
      ]
    },
    {
      "cell_type": "code",
      "source": [
        "# Shuffle the dataset with seed 42\n",
        "np.random.seed(42)\n",
        "n = len(df)\n",
        "idx = np.arange(n)\n",
        "np.random.shuffle(idx)\n",
        "df_shuffled = df.iloc[idx].reset_index(drop=True)\n",
        "\n",
        "print(f\"Dataset shuffled with seed 42\")"
      ],
      "metadata": {
        "colab": {
          "base_uri": "https://localhost:8080/"
        },
        "id": "4w4K0gZIrPue",
        "outputId": "81ca0e18-55fc-4ddb-d80a-8254b3ee8473"
      },
      "execution_count": 15,
      "outputs": [
        {
          "output_type": "stream",
          "name": "stdout",
          "text": [
            "Dataset shuffled with seed 42\n"
          ]
        }
      ]
    },
    {
      "cell_type": "code",
      "source": [
        "# Split: 60% train, 20% validation, 20% test\n",
        "n_train = int(0.6 * n)\n",
        "n_val = int(0.2 * n)\n",
        "n_test = n - n_train - n_val\n",
        "\n",
        "df_train = df_shuffled.iloc[:n_train].copy()\n",
        "df_val = df_shuffled.iloc[n_train:n_train+n_val].copy()\n",
        "df_test = df_shuffled.iloc[n_train+n_val:].copy()\n",
        "\n",
        "print(f\"Train set: {len(df_train)} samples\")\n",
        "print(f\"Validation set: {len(df_val)} samples\")\n",
        "print(f\"Test set: {len(df_test)} samples\")"
      ],
      "metadata": {
        "colab": {
          "base_uri": "https://localhost:8080/"
        },
        "id": "t02pIjM2rUwY",
        "outputId": "f12baf77-8522-40dc-e0c6-d3e10b5a810f"
      },
      "execution_count": 16,
      "outputs": [
        {
          "output_type": "stream",
          "name": "stdout",
          "text": [
            "Train set: 5822 samples\n",
            "Validation set: 1940 samples\n",
            "Test set: 1942 samples\n"
          ]
        }
      ]
    },
    {
      "cell_type": "code",
      "source": [
        "# Separate features and target\n",
        "y_train = df_train['fuel_efficiency_mpg'].values\n",
        "y_val = df_val['fuel_efficiency_mpg'].values\n",
        "y_test = df_test['fuel_efficiency_mpg'].values\n",
        "\n",
        "del df_train['fuel_efficiency_mpg']\n",
        "del df_val['fuel_efficiency_mpg']\n",
        "del df_test['fuel_efficiency_mpg']"
      ],
      "metadata": {
        "id": "22AwsyaSrY6S"
      },
      "execution_count": 17,
      "outputs": []
    },
    {
      "cell_type": "code",
      "source": [
        "print(\"\\n\" + \"=\"*50)\n",
        "print(\"Question 3: Fill missing values - 0 vs mean\")\n",
        "print(\"=\"*50)\n",
        "\n",
        "def train_linear_regression(X, y):\n",
        "    \"\"\"Train linear regression without regularization\"\"\"\n",
        "    ones = np.ones(X.shape[0])\n",
        "    X = np.column_stack([ones, X])\n",
        "\n",
        "    XTX = X.T.dot(X)\n",
        "    XTX_inv = np.linalg.inv(XTX)\n",
        "    w = XTX_inv.dot(X.T).dot(y)\n",
        "\n",
        "    return w[0], w[1:]\n",
        "\n",
        "def rmse(y_true, y_pred):\n",
        "    \"\"\"Calculate RMSE\"\"\"\n",
        "    se = (y_true - y_pred) ** 2\n",
        "    mse = se.mean()\n",
        "    return np.sqrt(mse)\n",
        "\n",
        "def predict(X, w0, w):\n",
        "    \"\"\"Make predictions\"\"\"\n",
        "    return w0 + X.dot(w)"
      ],
      "metadata": {
        "colab": {
          "base_uri": "https://localhost:8080/"
        },
        "id": "0OePpNfKreTH",
        "outputId": "932d3e59-0900-48c3-9b11-bfce234f6c4a"
      },
      "execution_count": 18,
      "outputs": [
        {
          "output_type": "stream",
          "name": "stdout",
          "text": [
            "\n",
            "==================================================\n",
            "Question 3: Fill missing values - 0 vs mean\n",
            "==================================================\n"
          ]
        }
      ]
    },
    {
      "cell_type": "code",
      "source": [
        "# Option 1: Fill with 0\n",
        "print(\"\\nOption 1: Fill missing values with 0\")\n",
        "X_train_zero = df_train.fillna(0).values\n",
        "X_val_zero = df_val.fillna(0).values\n",
        "\n",
        "w0_zero, w_zero = train_linear_regression(X_train_zero, y_train)\n",
        "y_pred_zero = predict(X_val_zero, w0_zero, w_zero)\n",
        "rmse_zero = rmse(y_val, y_pred_zero)\n",
        "print(f\"RMSE with 0: {round(rmse_zero, 2)}\")"
      ],
      "metadata": {
        "colab": {
          "base_uri": "https://localhost:8080/"
        },
        "id": "0ID64NVSriO8",
        "outputId": "1b17d5ff-f3d4-49bf-934e-1ce957d9172b"
      },
      "execution_count": 19,
      "outputs": [
        {
          "output_type": "stream",
          "name": "stdout",
          "text": [
            "\n",
            "Option 1: Fill missing values with 0\n",
            "RMSE with 0: 0.52\n"
          ]
        }
      ]
    },
    {
      "cell_type": "code",
      "source": [
        "# Option 2: Fill with mean (computed on training set only!)\n",
        "print(\"\\nOption 2: Fill missing values with mean\")\n",
        "mean_value = df_train[column_with_missing].mean()\n",
        "print(f\"Mean of '{column_with_missing}' from training set: {mean_value:.2f}\")\n",
        "\n",
        "X_train_mean = df_train.fillna(mean_value).values\n",
        "X_val_mean = df_val.fillna(mean_value).values\n",
        "\n",
        "w0_mean, w_mean = train_linear_regression(X_train_mean, y_train)\n",
        "y_pred_mean = predict(X_val_mean, w0_mean, w_mean)\n",
        "rmse_mean = rmse(y_val, y_pred_mean)\n",
        "print(f\"RMSE with mean: {round(rmse_mean, 2)}\")"
      ],
      "metadata": {
        "colab": {
          "base_uri": "https://localhost:8080/"
        },
        "id": "R8f86QccrkrN",
        "outputId": "361fef64-bf1b-4811-9215-84d89a762ad8"
      },
      "execution_count": 20,
      "outputs": [
        {
          "output_type": "stream",
          "name": "stdout",
          "text": [
            "\n",
            "Option 2: Fill missing values with mean\n",
            "Mean of 'horsepower' from training set: 149.54\n",
            "RMSE with mean: 0.46\n"
          ]
        }
      ]
    },
    {
      "cell_type": "code",
      "source": [
        "# Compare\n",
        "print(\"\\n\" + \"-\"*50)\n",
        "print(\"COMPARISON:\")\n",
        "print(f\"RMSE with 0:    {round(rmse_zero, 2)}\")\n",
        "print(f\"RMSE with mean: {round(rmse_mean, 2)}\")\n",
        "\n",
        "if round(rmse_zero, 2) < round(rmse_mean, 2):\n",
        "    print(\"Answer: With 0 gives better RMSE\")\n",
        "elif round(rmse_zero, 2) > round(rmse_mean, 2):\n",
        "    print(\"Answer: With mean gives better RMSE\")\n",
        "else:\n",
        "    print(\"Answer: Both are equally good\")"
      ],
      "metadata": {
        "colab": {
          "base_uri": "https://localhost:8080/"
        },
        "id": "FE4FQgternTu",
        "outputId": "a2e96667-fc6f-4e12-dd2b-b54c775d9e99"
      },
      "execution_count": 21,
      "outputs": [
        {
          "output_type": "stream",
          "name": "stdout",
          "text": [
            "\n",
            "--------------------------------------------------\n",
            "COMPARISON:\n",
            "RMSE with 0:    0.52\n",
            "RMSE with mean: 0.46\n",
            "Answer: With mean gives better RMSE\n"
          ]
        }
      ]
    },
    {
      "cell_type": "code",
      "source": [
        "print(\"\\n\" + \"=\"*50)\n",
        "print(\"Question 4: Regularized linear regression\")\n",
        "print(\"=\"*50)\n",
        "\n",
        "def train_linear_regression_reg(X, y, r=0.0):\n",
        "    \"\"\"Train regularized linear regression\"\"\"\n",
        "    ones = np.ones(X.shape[0])\n",
        "    X = np.column_stack([ones, X])\n",
        "\n",
        "    XTX = X.T.dot(X)\n",
        "    reg = r * np.eye(XTX.shape[0])\n",
        "    XTX = XTX + reg\n",
        "\n",
        "    XTX_inv = np.linalg.inv(XTX)\n",
        "    w = XTX_inv.dot(X.T).dot(y)\n",
        "\n",
        "    return w[0], w[1:]"
      ],
      "metadata": {
        "colab": {
          "base_uri": "https://localhost:8080/"
        },
        "id": "7GoZNwalsfpf",
        "outputId": "dfa636ad-f203-4673-e9fb-13dcf497e1b9"
      },
      "execution_count": 22,
      "outputs": [
        {
          "output_type": "stream",
          "name": "stdout",
          "text": [
            "\n",
            "==================================================\n",
            "Question 4: Regularized linear regression\n",
            "==================================================\n"
          ]
        }
      ]
    },
    {
      "cell_type": "code",
      "source": [
        "# Fill with 0\n",
        "X_train_zero = df_train.fillna(0).values\n",
        "X_val_zero = df_val.fillna(0).values"
      ],
      "metadata": {
        "id": "_WRydKt7sjo_"
      },
      "execution_count": 23,
      "outputs": []
    },
    {
      "cell_type": "code",
      "source": [
        "# Try different values of r\n",
        "r_values = [0, 0.01, 0.1, 1, 5, 10, 100]\n",
        "rmse_scores = []\n",
        "\n",
        "print(\"\\nTrying different r values:\")\n",
        "for r in r_values:\n",
        "    w0, w = train_linear_regression_reg(X_train_zero, y_train, r=r)\n",
        "    y_pred = predict(X_val_zero, w0, w)\n",
        "    score = rmse(y_val, y_pred)\n",
        "    rmse_scores.append(score)\n",
        "    print(f\"r = {r:6.2f} | RMSE = {round(score, 2)}\")"
      ],
      "metadata": {
        "colab": {
          "base_uri": "https://localhost:8080/"
        },
        "id": "l2pm1rTesozN",
        "outputId": "ebf8e7dc-ffb3-4a32-eca5-802c5c675fc0"
      },
      "execution_count": 24,
      "outputs": [
        {
          "output_type": "stream",
          "name": "stdout",
          "text": [
            "\n",
            "Trying different r values:\n",
            "r =   0.00 | RMSE = 0.52\n",
            "r =   0.01 | RMSE = 0.52\n",
            "r =   0.10 | RMSE = 0.52\n",
            "r =   1.00 | RMSE = 0.52\n",
            "r =   5.00 | RMSE = 0.52\n",
            "r =  10.00 | RMSE = 0.52\n",
            "r = 100.00 | RMSE = 0.52\n"
          ]
        }
      ]
    },
    {
      "cell_type": "code",
      "source": [
        "# Find best r\n",
        "best_idx = np.argmin(rmse_scores)\n",
        "best_r = r_values[best_idx]\n",
        "best_rmse = rmse_scores[best_idx]\n",
        "\n",
        "print(\"\\n\" + \"-\"*50)\n",
        "print(f\"Best r: {best_r}\")\n",
        "print(f\"Best RMSE: {round(best_rmse, 2)}\")"
      ],
      "metadata": {
        "colab": {
          "base_uri": "https://localhost:8080/"
        },
        "id": "5QJSxdtusr4V",
        "outputId": "c136f7b9-25c2-4d80-9001-8c11c109c69f"
      },
      "execution_count": 25,
      "outputs": [
        {
          "output_type": "stream",
          "name": "stdout",
          "text": [
            "\n",
            "--------------------------------------------------\n",
            "Best r: 0.01\n",
            "Best RMSE: 0.52\n"
          ]
        }
      ]
    },
    {
      "cell_type": "code",
      "source": [
        "print(\"\\n\" + \"=\"*50)\n",
        "print(\"Question 5: Effect of random seed\")\n",
        "print(\"=\"*50)\n"
      ],
      "metadata": {
        "colab": {
          "base_uri": "https://localhost:8080/"
        },
        "id": "e09NgnuQs6GV",
        "outputId": "02eca90d-c88e-4a1e-be52-82f8fae21c7b"
      },
      "execution_count": 26,
      "outputs": [
        {
          "output_type": "stream",
          "name": "stdout",
          "text": [
            "\n",
            "==================================================\n",
            "Question 5: Effect of random seed\n",
            "==================================================\n"
          ]
        }
      ]
    },
    {
      "cell_type": "code",
      "source": [
        "# Load original data fresh\n",
        "df_original = pd.read_csv('car_fuel_efficiency.csv')\n",
        "df_q5 = df_original[['engine_displacement', 'horsepower', 'vehicle_weight', 'model_year', 'fuel_efficiency_mpg']].copy()\n",
        "\n",
        "n = len(df_q5)\n",
        "n_train = int(0.6 * n)\n",
        "n_val = int(0.2 * n)"
      ],
      "metadata": {
        "id": "4qtVGEt3SWPy"
      },
      "execution_count": 31,
      "outputs": []
    },
    {
      "cell_type": "code",
      "source": [
        "# RESET the list\n",
        "rmse_scores_seeds = []\n",
        "\n",
        "seeds = [0, 1, 2, 3, 4, 5, 6, 7, 8, 9]\n",
        "\n",
        "print(\"\\nTrying different seeds:\")\n",
        "for seed in seeds:\n",
        "    np.random.seed(seed)\n",
        "    idx = np.arange(n)\n",
        "    np.random.shuffle(idx)\n",
        "\n",
        "    df_shuffled = df_q5.iloc[idx].reset_index(drop=True)\n",
        "\n",
        "    df_train_s = df_shuffled.iloc[:n_train].copy()\n",
        "    df_val_s = df_shuffled.iloc[n_train:n_train+n_val].copy()\n",
        "\n",
        "    y_train_s = df_train_s['fuel_efficiency_mpg'].values\n",
        "    y_val_s = df_val_s['fuel_efficiency_mpg'].values\n",
        "\n",
        "    del df_train_s['fuel_efficiency_mpg']\n",
        "    del df_val_s['fuel_efficiency_mpg']\n",
        "\n",
        "    X_train_s = df_train_s.fillna(0).values\n",
        "    X_val_s = df_val_s.fillna(0).values\n",
        "\n",
        "    w0, w = train_linear_regression(X_train_s, y_train_s)\n",
        "    y_pred = predict(X_val_s, w0, w)\n",
        "    score = rmse(y_val_s, y_pred)\n",
        "    rmse_scores_seeds.append(score)\n",
        "\n",
        "    print(f\"Seed = {seed} | RMSE = {score:.3f}\")\n"
      ],
      "metadata": {
        "colab": {
          "base_uri": "https://localhost:8080/"
        },
        "id": "PiZGz_dlv7Gd",
        "outputId": "5e0a0b88-1a03-42c3-ac95-9e665fa1226c"
      },
      "execution_count": 33,
      "outputs": [
        {
          "output_type": "stream",
          "name": "stdout",
          "text": [
            "\n",
            "Trying different seeds:\n",
            "Seed = 0 | RMSE = 0.521\n",
            "Seed = 1 | RMSE = 0.522\n",
            "Seed = 2 | RMSE = 0.523\n",
            "Seed = 3 | RMSE = 0.516\n",
            "Seed = 4 | RMSE = 0.511\n",
            "Seed = 5 | RMSE = 0.529\n",
            "Seed = 6 | RMSE = 0.532\n",
            "Seed = 7 | RMSE = 0.510\n",
            "Seed = 8 | RMSE = 0.515\n",
            "Seed = 9 | RMSE = 0.513\n"
          ]
        }
      ]
    },
    {
      "cell_type": "code",
      "source": [
        "# Calculate standard deviation\n",
        "std_rmse = np.std(rmse_scores_seeds)\n",
        "\n",
        "print(\"\\n\" + \"-\"*50)\n",
        "print(f\"Number of scores: {len(rmse_scores_seeds)}\")\n",
        "print(f\"Standard deviation: {round(std_rmse, 3)}\")\n",
        "print(f\"\\nAnswer for Question 5: {round(std_rmse, 3)}\")"
      ],
      "metadata": {
        "colab": {
          "base_uri": "https://localhost:8080/"
        },
        "id": "XqeVDM2Jv8PX",
        "outputId": "842cf963-e8ef-41f9-d5ff-b67ea1fd79fe"
      },
      "execution_count": 34,
      "outputs": [
        {
          "output_type": "stream",
          "name": "stdout",
          "text": [
            "\n",
            "--------------------------------------------------\n",
            "Number of scores: 10\n",
            "Standard deviation: 0.007\n",
            "\n",
            "Answer for Question 5: 0.007\n"
          ]
        }
      ]
    },
    {
      "cell_type": "code",
      "metadata": {
        "colab": {
          "base_uri": "https://localhost:8080/"
        },
        "id": "7eeb9f80",
        "outputId": "4644f1ed-9bd8-4b7c-c055-57e14494c926"
      },
      "source": [
        "print(\"\\n\" + \"=\"*50)\n",
        "print(\"Question 6: Final model on test set\")\n",
        "print(\"=\"*50)\n"
      ],
      "execution_count": 36,
      "outputs": [
        {
          "output_type": "stream",
          "name": "stdout",
          "text": [
            "\n",
            "==================================================\n",
            "Question 6: Final model on test set\n",
            "==================================================\n"
          ]
        }
      ]
    },
    {
      "cell_type": "code",
      "source": [
        "# Split with seed 9\n",
        "np.random.seed(9)\n",
        "idx = np.arange(n)\n",
        "np.random.shuffle(idx)\n",
        "df_shuffled = df.iloc[idx].reset_index(drop=True)\n"
      ],
      "metadata": {
        "id": "Yn702Jc_TyFn"
      },
      "execution_count": 37,
      "outputs": []
    },
    {
      "cell_type": "code",
      "source": [
        "# Split\n",
        "df_train_final = df_shuffled.iloc[:n_train].copy()\n",
        "df_val_final = df_shuffled.iloc[n_train:n_train+n_val].copy()\n",
        "df_test_final = df_shuffled.iloc[n_train+n_val:].copy()"
      ],
      "metadata": {
        "id": "khYYyJ-ETzKH"
      },
      "execution_count": 38,
      "outputs": []
    },
    {
      "cell_type": "code",
      "source": [
        "# Combine train and validation\n",
        "df_train_val = pd.concat([df_train_final, df_val_final]).reset_index(drop=True)\n",
        "\n",
        "y_train_val = df_train_val['fuel_efficiency_mpg'].values\n",
        "y_test_final = df_test_final['fuel_efficiency_mpg'].values\n",
        "\n",
        "del df_train_val['fuel_efficiency_mpg']\n",
        "del df_test_final['fuel_efficiency_mpg']\n"
      ],
      "metadata": {
        "id": "oKW9vZJQT6v2"
      },
      "execution_count": 39,
      "outputs": []
    },
    {
      "cell_type": "code",
      "source": [
        "# Fill with 0\n",
        "X_train_val = df_train_val.fillna(0).values\n",
        "X_test_final = df_test_final.fillna(0).values"
      ],
      "metadata": {
        "id": "FhkdLnqMT-Ep"
      },
      "execution_count": 40,
      "outputs": []
    },
    {
      "cell_type": "code",
      "source": [
        "# Train with r=0.001\n",
        "w0_final, w_final = train_linear_regression_reg(X_train_val, y_train_val, r=0.001)\n",
        "y_pred_final = predict(X_test_final, w0_final, w_final)\n",
        "rmse_final = rmse(y_test_final, y_pred_final)\n",
        "\n",
        "print(f\"Combined train+validation set size: {len(df_train_val)}\")\n",
        "print(f\"Test set size: {len(df_test_final)}\")\n",
        "print(f\"Model trained with r=0.001\")\n",
        "print(f\"\\nRMSE on test set: {round(rmse_final, 2)}\")"
      ],
      "metadata": {
        "colab": {
          "base_uri": "https://localhost:8080/"
        },
        "id": "XBpxzQgTUA8h",
        "outputId": "562cb2cc-f530-425f-97aa-63a193f9035e"
      },
      "execution_count": 41,
      "outputs": [
        {
          "output_type": "stream",
          "name": "stdout",
          "text": [
            "Combined train+validation set size: 7762\n",
            "Test set size: 1942\n",
            "Model trained with r=0.001\n",
            "\n",
            "RMSE on test set: 0.52\n"
          ]
        }
      ]
    },
    {
      "cell_type": "code",
      "source": [
        "print(\"\\n\" + \"=\"*70)\n",
        "print(\"SUMMARY OF ANSWERS\")\n",
        "print(\"=\"*70)\n",
        "print(f\"Q1: Column with missing values: '{column_with_missing}'\")\n",
        "print(f\"Q2: Median of horsepower: {median_horsepower}\")\n",
        "print(f\"Q3: Better option: {'With 0' if rmse_zero < rmse_mean else ('With mean' if rmse_mean < rmse_zero else 'Both equally good')} (RMSE: 0={round(rmse_zero, 2)}, mean={round(rmse_mean, 2)})\")\n",
        "print(f\"Q4: Best r value: {best_r} (RMSE: {round(best_rmse, 2)})\")\n",
        "print(f\"Q5: Standard deviation of RMSE: {round(std_rmse, 3)}\")\n",
        "print(f\"Q6: RMSE on test set (seed=9, r=0.001): {round(rmse_final, 2)}\")\n",
        "print(\"=\"*70)"
      ],
      "metadata": {
        "colab": {
          "base_uri": "https://localhost:8080/"
        },
        "id": "ReJ36NRTW8Xn",
        "outputId": "fb24e9d8-af0e-465a-bbce-7d030dcd576d"
      },
      "execution_count": 42,
      "outputs": [
        {
          "output_type": "stream",
          "name": "stdout",
          "text": [
            "\n",
            "======================================================================\n",
            "SUMMARY OF ANSWERS\n",
            "======================================================================\n",
            "Q1: Column with missing values: 'horsepower'\n",
            "Q2: Median of horsepower: 149.0\n",
            "Q3: Better option: With mean (RMSE: 0=0.52, mean=0.46)\n",
            "Q4: Best r value: 0.01 (RMSE: 0.52)\n",
            "Q5: Standard deviation of RMSE: 0.007\n",
            "Q6: RMSE on test set (seed=9, r=0.001): 0.52\n",
            "======================================================================\n"
          ]
        }
      ]
    }
  ]
}