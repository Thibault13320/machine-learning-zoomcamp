{
  "nbformat": 4,
  "nbformat_minor": 0,
  "metadata": {
    "colab": {
      "provenance": [],
      "authorship_tag": "ABX9TyMwA8PQmPqWjIob0rMscDKh",
      "include_colab_link": true
    },
    "kernelspec": {
      "name": "python3",
      "display_name": "Python 3"
    },
    "language_info": {
      "name": "python"
    }
  },
  "cells": [
    {
      "cell_type": "markdown",
      "metadata": {
        "id": "view-in-github",
        "colab_type": "text"
      },
      "source": [
        "<a href=\"https://colab.research.google.com/github/Thibault13320/machine-learning-zoomcamp/blob/main/04-evaluation/homework.ipynb\" target=\"_parent\"><img src=\"https://colab.research.google.com/assets/colab-badge.svg\" alt=\"Open In Colab\"/></a>"
      ]
    },
    {
      "cell_type": "code",
      "execution_count": 82,
      "metadata": {
        "id": "i7x7waR_f6GT"
      },
      "outputs": [],
      "source": [
        "# Import necessary libraries\n",
        "import pandas as pd\n",
        "import numpy as np\n",
        "import matplotlib.pyplot as plt\n",
        "from sklearn.model_selection import train_test_split, KFold\n",
        "from sklearn.feature_extraction import DictVectorizer\n",
        "from sklearn.linear_model import LogisticRegression\n",
        "from sklearn.metrics import roc_auc_score, precision_score, recall_score\n",
        "import warnings\n",
        "warnings.filterwarnings('ignore')"
      ]
    },
    {
      "cell_type": "code",
      "source": [
        "# ============================================================================\n",
        "# DATA LOADING AND PREPARATION\n",
        "# ============================================================================\n",
        "\n",
        "# Load the dataset\n",
        "url = 'https://raw.githubusercontent.com/alexeygrigorev/datasets/master/course_lead_scoring.csv'\n",
        "print(f\"Chargement des données depuis: {url}\\n\")\n",
        "df = pd.read_csv(url)"
      ],
      "metadata": {
        "colab": {
          "base_uri": "https://localhost:8080/"
        },
        "id": "nn3OGAcjgkGW",
        "outputId": "59f8e039-087d-4e2c-be7f-e02488ae9640"
      },
      "execution_count": 83,
      "outputs": [
        {
          "output_type": "stream",
          "name": "stdout",
          "text": [
            "Chargement des données depuis: https://raw.githubusercontent.com/alexeygrigorev/datasets/master/course_lead_scoring.csv\n",
            "\n"
          ]
        }
      ]
    },
    {
      "cell_type": "code",
      "source": [
        "print(\"=\"*80)\n",
        "print(\"EXPLORATION INITIALE DES DONNÉES\")\n",
        "print(\"=\"*80)\n",
        "print(f\"Forme du dataset: {df.shape}\")\n",
        "print(f\"\\nNoms des colonnes: {df.columns.tolist()}\")\n",
        "print(f\"\\nPremières lignes:\\n{df.head()}\")\n",
        "print(f\"\\nDistribution de la variable cible 'converted':\\n{df['converted'].value_counts()}\")\n",
        "print(f\"Taux de conversion: {df['converted'].mean():.3f}\")"
      ],
      "metadata": {
        "colab": {
          "base_uri": "https://localhost:8080/"
        },
        "id": "JmXZrffjgoJP",
        "outputId": "662070c5-9f0f-44f4-b213-872051623f1c"
      },
      "execution_count": 84,
      "outputs": [
        {
          "output_type": "stream",
          "name": "stdout",
          "text": [
            "================================================================================\n",
            "EXPLORATION INITIALE DES DONNÉES\n",
            "================================================================================\n",
            "Forme du dataset: (1462, 9)\n",
            "\n",
            "Noms des colonnes: ['lead_source', 'industry', 'number_of_courses_viewed', 'annual_income', 'employment_status', 'location', 'interaction_count', 'lead_score', 'converted']\n",
            "\n",
            "Premières lignes:\n",
            "    lead_source    industry  number_of_courses_viewed  annual_income  \\\n",
            "0      paid_ads         NaN                         1        79450.0   \n",
            "1  social_media      retail                         1        46992.0   \n",
            "2        events  healthcare                         5        78796.0   \n",
            "3      paid_ads      retail                         2        83843.0   \n",
            "4      referral   education                         3        85012.0   \n",
            "\n",
            "  employment_status       location  interaction_count  lead_score  converted  \n",
            "0        unemployed  south_america                  4        0.94          1  \n",
            "1          employed  south_america                  1        0.80          0  \n",
            "2        unemployed      australia                  3        0.69          1  \n",
            "3               NaN      australia                  1        0.87          0  \n",
            "4     self_employed         europe                  3        0.62          1  \n",
            "\n",
            "Distribution de la variable cible 'converted':\n",
            "converted\n",
            "1    905\n",
            "0    557\n",
            "Name: count, dtype: int64\n",
            "Taux de conversion: 0.619\n"
          ]
        }
      ]
    },
    {
      "cell_type": "code",
      "source": [
        "# DATA PREPARATION\n",
        "print(\"\\n\" + \"=\"*80)\n",
        "print(\"PRÉPARATION DES DONNÉES\")\n",
        "print(\"=\"*80)\n",
        "\n",
        "print(\"\\nValeurs manquantes AVANT traitement:\")\n",
        "missing_before = df.isnull().sum()\n",
        "print(missing_before[missing_before > 0])"
      ],
      "metadata": {
        "colab": {
          "base_uri": "https://localhost:8080/"
        },
        "id": "i82mT1zjgqOV",
        "outputId": "bba9449a-1e2c-4ab1-b3d9-57d8c62af00f"
      },
      "execution_count": 85,
      "outputs": [
        {
          "output_type": "stream",
          "name": "stdout",
          "text": [
            "\n",
            "================================================================================\n",
            "PRÉPARATION DES DONNÉES\n",
            "================================================================================\n",
            "\n",
            "Valeurs manquantes AVANT traitement:\n",
            "lead_source          128\n",
            "industry             134\n",
            "annual_income        181\n",
            "employment_status    100\n",
            "location              63\n",
            "dtype: int64\n"
          ]
        }
      ]
    },
    {
      "cell_type": "code",
      "source": [
        "# Handle missing values\n",
        "# For categorical features: replace with 'NA'\n",
        "# For numerical features: replace with 0.0"
      ],
      "metadata": {
        "id": "GCAerAINgwIx"
      },
      "execution_count": 5,
      "outputs": []
    },
    {
      "cell_type": "code",
      "source": [
        "categorical_cols = ['lead_source', 'industry', 'employment_status', 'location']\n",
        "numerical_cols = ['number_of_courses_viewed', 'annual_income', 'interaction_count', 'lead_score']\n",
        "\n",
        "print(f\"\\nColonnes catégorielles: {categorical_cols}\")\n",
        "print(f\"Colonnes numériques: {numerical_cols}\")\n"
      ],
      "metadata": {
        "colab": {
          "base_uri": "https://localhost:8080/"
        },
        "id": "lHFrTRitgxLL",
        "outputId": "a5066b10-a90d-441f-ce48-dd9bd3e094e6"
      },
      "execution_count": 86,
      "outputs": [
        {
          "output_type": "stream",
          "name": "stdout",
          "text": [
            "\n",
            "Colonnes catégorielles: ['lead_source', 'industry', 'employment_status', 'location']\n",
            "Colonnes numériques: ['number_of_courses_viewed', 'annual_income', 'interaction_count', 'lead_score']\n"
          ]
        }
      ]
    },
    {
      "cell_type": "code",
      "source": [
        "# Filling out the missing values\n",
        "for col in categorical_cols:\n",
        "    df[col] = df[col].fillna('NA')\n",
        "\n",
        "for col in numerical_cols:\n",
        "    df[col] = df[col].fillna(0.0)\n",
        "\n",
        "print(\"\\nValues missing after processing:\")\n",
        "print(df.isnull().sum().sum(), \"Value missing in total\")"
      ],
      "metadata": {
        "colab": {
          "base_uri": "https://localhost:8080/"
        },
        "id": "jwYIPC14g1Dq",
        "outputId": "a823714b-2a95-4ad2-f82b-d4b9be24a482"
      },
      "execution_count": 88,
      "outputs": [
        {
          "output_type": "stream",
          "name": "stdout",
          "text": [
            "\n",
            "Values missing after processing:\n",
            "0 Value missing in total\n"
          ]
        }
      ]
    },
    {
      "cell_type": "code",
      "source": [
        "# Split: 60% train, 20% validation, 20% test\n",
        "df_full_train, df_test = train_test_split(df, test_size=0.2, random_state=1)\n",
        "df_train, df_val = train_test_split(df_full_train, test_size=0.25, random_state=1)  # 0.25 x 0.8 = 0.2\n",
        "\n",
        "print(f\"\\nTaille des ensembles:\")\n",
        "print(f\"Train: {len(df_train)} ({len(df_train)/len(df)*100:.1f}%)\")\n",
        "print(f\"Validation: {len(df_val)} ({len(df_val)/len(df)*100:.1f}%)\")\n",
        "print(f\"Test: {len(df_test)} ({len(df_test)/len(df)*100:.1f}%)\")\n"
      ],
      "metadata": {
        "colab": {
          "base_uri": "https://localhost:8080/"
        },
        "id": "xOHj6nWig3tO",
        "outputId": "e7099b59-56bb-47be-ac37-17f579746ae7"
      },
      "execution_count": 89,
      "outputs": [
        {
          "output_type": "stream",
          "name": "stdout",
          "text": [
            "\n",
            "Taille des ensembles:\n",
            "Train: 876 (59.9%)\n",
            "Validation: 293 (20.0%)\n",
            "Test: 293 (20.0%)\n"
          ]
        }
      ]
    },
    {
      "cell_type": "code",
      "source": [
        "print(\"\\n\" + \"=\"*80)\n",
        "print(\"QUESTION 1: ROC AUC Feature Importance\")\n",
        "print(\"=\"*80)"
      ],
      "metadata": {
        "colab": {
          "base_uri": "https://localhost:8080/"
        },
        "id": "Xwj6fNlig4fO",
        "outputId": "9e7092ed-eb88-42f8-e521-a2b2270d15f4"
      },
      "execution_count": 11,
      "outputs": [
        {
          "output_type": "stream",
          "name": "stdout",
          "text": [
            "\n",
            "================================================================================\n",
            "QUESTION 1: ROC AUC Feature Importance\n",
            "================================================================================\n"
          ]
        }
      ]
    },
    {
      "cell_type": "code",
      "source": [
        "features_to_test = ['lead_score', 'number_of_courses_viewed', 'interaction_count', 'annual_income']\n",
        "y_train = df_train['converted'].values\n",
        "auc_scores = {}\n",
        "\n",
        "for feature in features_to_test:\n",
        "    score = df_train[feature].values\n",
        "    auc = roc_auc_score(y_train, score)\n",
        "\n",
        "    # If AUC < 0.5, inversed the variable\n",
        "    if auc < 0.5:\n",
        "        auc = roc_auc_score(y_train, -score)\n",
        "        print(f\"{feature:30s}: {auc:.4f} (inversé)\")\n",
        "    else:\n",
        "        print(f\"{feature:30s}: {auc:.4f}\")\n",
        "\n",
        "    auc_scores[feature] = auc\n",
        "\n",
        "best_feature = max(auc_scores, key=auc_scores.get)\n",
        "print(f\"\\n>>> RÉPONSE Q1: '{best_feature}'\")"
      ],
      "metadata": {
        "colab": {
          "base_uri": "https://localhost:8080/"
        },
        "id": "KrgLx-OChFN8",
        "outputId": "31111c60-6bab-484d-8ecd-8a7c8384d79e"
      },
      "execution_count": 110,
      "outputs": [
        {
          "output_type": "stream",
          "name": "stdout",
          "text": [
            "lead_score                    : 0.6145\n",
            "number_of_courses_viewed      : 0.7636\n",
            "interaction_count             : 0.7383\n",
            "annual_income                 : 0.5520\n",
            "\n",
            ">>> RÉPONSE Q1: 'number_of_courses_viewed'\n"
          ]
        }
      ]
    },
    {
      "cell_type": "code",
      "source": [
        "print(\"\\n\" + \"=\"*80)\n",
        "print(\"QUESTION 2: Training the Model\")\n",
        "print(\"=\"*80)\n"
      ],
      "metadata": {
        "colab": {
          "base_uri": "https://localhost:8080/"
        },
        "id": "0IUlXNCshdoJ",
        "outputId": "695743a8-b079-45d4-d20a-d109e84bb0c9"
      },
      "execution_count": 19,
      "outputs": [
        {
          "output_type": "stream",
          "name": "stdout",
          "text": [
            "\n",
            "================================================================================\n",
            "QUESTION 2: Training the Model\n",
            "================================================================================\n"
          ]
        }
      ]
    },
    {
      "cell_type": "code",
      "source": [
        "# Prepare data\n",
        "def prepare_data(df):\n",
        "    \"\"\"Convert the dataframe in dictionnary format for DictVectorizer\"\"\"\n",
        "    df_dict = df.drop('converted', axis=1).to_dict(orient='records')\n",
        "    return df_dict\n",
        "\n",
        "train_dicts = prepare_data(df_train)\n",
        "val_dicts = prepare_data(df_val)"
      ],
      "metadata": {
        "id": "3hOcFFZHhhLP"
      },
      "execution_count": 112,
      "outputs": []
    },
    {
      "cell_type": "code",
      "source": [
        "# One-hot encoding avec DictVectorizer\n",
        "dv = DictVectorizer(sparse=False)\n",
        "X_train = dv.fit_transform(train_dicts)\n",
        "X_val = dv.transform(val_dicts)\n",
        "\n",
        "y_train = df_train['converted'].values\n",
        "y_val = df_val['converted'].values\n",
        "\n",
        "print(f\"Ensemble d'entraînement: X shape = {X_train.shape}, y shape = {y_train.shape}\")\n",
        "print(f\"Ensemble de validation: X shape = {X_val.shape}, y shape = {y_val.shape}\")\n",
        "print(f\"Nombre de features après one-hot encoding: {X_train.shape[1]}\")"
      ],
      "metadata": {
        "colab": {
          "base_uri": "https://localhost:8080/"
        },
        "id": "d3bEGI3fhiTI",
        "outputId": "7dd78bdd-6f9d-469f-e1ac-2829ec107fe3"
      },
      "execution_count": 115,
      "outputs": [
        {
          "output_type": "stream",
          "name": "stdout",
          "text": [
            "Ensemble d'entraînement: X shape = (876, 31), y shape = (876,)\n",
            "Ensemble de validation: X shape = (293, 31), y shape = (293,)\n",
            "Nombre de features après one-hot encoding: 31\n"
          ]
        }
      ]
    },
    {
      "cell_type": "code",
      "source": [
        "# Train logistic regression\n",
        "model = LogisticRegression(solver='liblinear', C=1.0, max_iter=1000)\n",
        "model.fit(X_train, y_train)\n",
        "\n",
        "# Predict probabilities\n",
        "y_val_pred = model.predict_proba(X_val)[:, 1]\n",
        "\n",
        "# Calculate AUC\n",
        "auc_val = roc_auc_score(y_val, y_val_pred)\n",
        "print(f\"\\n>>> RÉPONSE Q2: AUC sur validation = {auc_val:.3f}\")"
      ],
      "metadata": {
        "colab": {
          "base_uri": "https://localhost:8080/"
        },
        "id": "QshWvL3AhpM2",
        "outputId": "a2ee085f-cda2-4e3c-cf7d-3cba743392be"
      },
      "execution_count": 116,
      "outputs": [
        {
          "output_type": "stream",
          "name": "stdout",
          "text": [
            "\n",
            ">>> RÉPONSE Q2: AUC sur validation = 0.817\n"
          ]
        }
      ]
    },
    {
      "cell_type": "code",
      "source": [
        "# Predict on validation set\n",
        "y_val_pred = model.predict_proba(X_val)[:, 1]"
      ],
      "metadata": {
        "id": "5duV-U0chrkv"
      },
      "execution_count": 25,
      "outputs": []
    },
    {
      "cell_type": "code",
      "source": [
        "# Calculate AUC\n",
        "auc_val = roc_auc_score(y_val, y_val_pred)\n",
        "print(f\"\\nAUC on validation dataset: {auc_val:.3f}\")\n",
        "print(f\"Answer Q2: {auc_val:.3f}\")"
      ],
      "metadata": {
        "colab": {
          "base_uri": "https://localhost:8080/"
        },
        "id": "Pxx7fvYahtar",
        "outputId": "2ffeeffe-a3a1-4964-8ca9-dcff95482229"
      },
      "execution_count": 26,
      "outputs": [
        {
          "output_type": "stream",
          "name": "stdout",
          "text": [
            "\n",
            "AUC on validation dataset: 0.817\n",
            "Answer Q2: 0.817\n"
          ]
        }
      ]
    },
    {
      "cell_type": "code",
      "source": [
        "print(\"\\n\" + \"=\"*80)\n",
        "print(\"QUESTION 3: Precision and Recall\")\n",
        "print(\"=\"*80)"
      ],
      "metadata": {
        "colab": {
          "base_uri": "https://localhost:8080/"
        },
        "id": "lTs49e9vhukI",
        "outputId": "911e90c5-5cd7-4a30-a023-5aac8f60e1c4"
      },
      "execution_count": 27,
      "outputs": [
        {
          "output_type": "stream",
          "name": "stdout",
          "text": [
            "\n",
            "================================================================================\n",
            "QUESTION 3: Precision and Recall\n",
            "================================================================================\n"
          ]
        }
      ]
    },
    {
      "cell_type": "code",
      "source": [
        "# Evaluate precision and recall for different thresholds\n",
        "thresholds = np.arange(0.0, 1.01, 0.01)\n",
        "precisions = []\n",
        "recalls = []\n",
        "\n",
        "for threshold in thresholds:\n",
        "    y_pred_threshold = (y_val_pred >= threshold).astype(int)\n",
        "\n",
        "    # Calculate precision and recall\n",
        "    if y_pred_threshold.sum() == 0:\n",
        "        precision = 0\n",
        "    else:\n",
        "        precision = precision_score(y_val, y_pred_threshold, zero_division=0)\n",
        "\n",
        "    recall = recall_score(y_val, y_pred_threshold, zero_division=0)\n",
        "\n",
        "    precisions.append(precision)\n",
        "    recalls.append(recall)"
      ],
      "metadata": {
        "id": "YYeuhstDhwcd"
      },
      "execution_count": 141,
      "outputs": []
    },
    {
      "cell_type": "code",
      "source": [
        "# Plot precision and recall curves\n",
        "plt.figure(figsize=(10, 6))\n",
        "plt.plot(thresholds, precisions, label='Precision', linewidth=2)\n",
        "plt.plot(thresholds, recalls, label='Recall', linewidth=2)\n",
        "plt.xlabel('Threshold')\n",
        "plt.ylabel('Score')\n",
        "plt.title('Precision and Recall vs Threshold')\n",
        "plt.legend()\n",
        "plt.grid(True, alpha=0.3)\n",
        "plt.show()\n"
      ],
      "metadata": {
        "colab": {
          "base_uri": "https://localhost:8080/",
          "height": 564
        },
        "id": "mCDOOVzIhykr",
        "outputId": "86fb2b0d-ac36-4abe-c023-b7fae01bd260"
      },
      "execution_count": 142,
      "outputs": [
        {
          "output_type": "display_data",
          "data": {
            "text/plain": [
              "<Figure size 1000x600 with 1 Axes>"
            ],
            "image/png": "[encoded data removed]"
          },
          "metadata": {}
        }
      ]
    },
    {
      "cell_type": "code",
      "source": [
        "# Find intersection point\n",
        "precisions_arr = np.array(precisions)\n",
        "recalls_arr = np.array(recalls)\n"
      ],
      "metadata": {
        "id": "Mrj0PPDEiZMp"
      },
      "execution_count": 143,
      "outputs": []
    },
    {
      "cell_type": "code",
      "source": [
        "# Only consider thresholds where BOTH precision and recall are greater than 0\n",
        "# This avoids meaningless intersections at extreme thresholds\n",
        "valid_mask = (precisions_arr > 0) & (recalls_arr > 0)\n",
        "valid_thresholds = thresholds[valid_mask]\n",
        "valid_precisions = precisions_arr[valid_mask]\n",
        "valid_recalls = recalls_arr[valid_mask]"
      ],
      "metadata": {
        "id": "JKv3EN7WthUg"
      },
      "execution_count": 144,
      "outputs": []
    },
    {
      "cell_type": "code",
      "source": [
        "# Calculate absolute differences for valid points only\n",
        "valid_differences = np.abs(valid_precisions - valid_recalls)\n"
      ],
      "metadata": {
        "id": "o0ppYY26uBoJ"
      },
      "execution_count": 145,
      "outputs": []
    },
    {
      "cell_type": "code",
      "source": [
        "# Find all local minima (potential intersection points)\n",
        "print(\"\\nTop 10 closest precision-recall points (with non-zero values):\")\n",
        "sorted_indices = np.argsort(valid_differences)[:10]\n",
        "for idx in sorted_indices:\n",
        "    print(f\"Threshold: {valid_thresholds[idx]:.3f}, Precision: {valid_precisions[idx]:.3f}, Recall: {valid_recalls[idx]:.3f}, Diff: {valid_differences[idx]:.4f}\")\n"
      ],
      "metadata": {
        "colab": {
          "base_uri": "https://localhost:8080/"
        },
        "id": "QLHPci8wuERd",
        "outputId": "13f73487-8ad7-4b99-8930-be51ed0065ee"
      },
      "execution_count": 146,
      "outputs": [
        {
          "output_type": "stream",
          "name": "stdout",
          "text": [
            "\n",
            "Top 10 closest precision-recall points (with non-zero values):\n",
            "Threshold: 0.640, Precision: 0.779, Recall: 0.784, Diff: 0.0046\n",
            "Threshold: 0.650, Precision: 0.778, Recall: 0.760, Diff: 0.0182\n",
            "Threshold: 0.630, Precision: 0.764, Recall: 0.813, Diff: 0.0491\n",
            "Threshold: 0.660, Precision: 0.780, Recall: 0.725, Diff: 0.0547\n",
            "Threshold: 0.620, Precision: 0.761, Recall: 0.836, Diff: 0.0756\n",
            "Threshold: 0.670, Precision: 0.797, Recall: 0.713, Diff: 0.0839\n",
            "Threshold: 0.610, Precision: 0.747, Recall: 0.865, Diff: 0.1180\n",
            "Threshold: 0.680, Precision: 0.806, Recall: 0.678, Diff: 0.1272\n",
            "Threshold: 0.600, Precision: 0.739, Recall: 0.877, Diff: 0.1383\n",
            "Threshold: 0.590, Precision: 0.741, Recall: 0.889, Diff: 0.1474\n"
          ]
        }
      ]
    },
    {
      "cell_type": "code",
      "source": [
        "# Find the threshold with minimum difference among valid points\n",
        "intersection_idx = np.argmin(valid_differences)\n",
        "intersection_threshold = valid_thresholds[intersection_idx]\n",
        "intersection_precision = valid_precisions[intersection_idx]\n",
        "intersection_recall = valid_recalls[intersection_idx]\n",
        "\n",
        "print(f\"\\nPrecision and Recall intersect at threshold: {intersection_threshold:.3f}\")\n",
        "print(f\"At this threshold:\")\n",
        "print(f\"  Precision: {intersection_precision:.3f}\")\n",
        "print(f\"  Recall: {intersection_recall:.3f}\")\n",
        "print(f\"  Difference: {valid_differences[intersection_idx]:.4f}\")\n",
        "print(f\"\\n>>> ANSWER Q3: {intersection_threshold:.3f}\")"
      ],
      "metadata": {
        "colab": {
          "base_uri": "https://localhost:8080/"
        },
        "id": "n0TMD58_tE9F",
        "outputId": "a4bf0e84-ad39-4221-98cb-d6fc955bca93"
      },
      "execution_count": 147,
      "outputs": [
        {
          "output_type": "stream",
          "name": "stdout",
          "text": [
            "\n",
            "Precision and Recall intersect at threshold: 0.640\n",
            "At this threshold:\n",
            "  Precision: 0.779\n",
            "  Recall: 0.784\n",
            "  Difference: 0.0046\n",
            "\n",
            ">>> ANSWER Q3: 0.640\n"
          ]
        }
      ]
    },
    {
      "cell_type": "code",
      "source": [
        "print(\"\\n\" + \"=\"*80)\n",
        "print(\"QUESTION 4: F1 Score\")\n",
        "print(\"=\"*80)\n"
      ],
      "metadata": {
        "colab": {
          "base_uri": "https://localhost:8080/"
        },
        "id": "rdNFxX3eiaVD",
        "outputId": "66aa4c1e-66fb-4e12-a00d-39936ece2904"
      },
      "execution_count": 41,
      "outputs": [
        {
          "output_type": "stream",
          "name": "stdout",
          "text": [
            "\n",
            "================================================================================\n",
            "QUESTION 4: F1 Score\n",
            "================================================================================\n"
          ]
        }
      ]
    },
    {
      "cell_type": "code",
      "source": [
        "# Calculate F1 score for all thresholds\n",
        "f1_scores = []\n",
        "\n",
        "for i, threshold in enumerate(thresholds):\n",
        "    P = precisions[i]\n",
        "    R = recalls[i]\n",
        "\n",
        "    # Calculate F1 score (handle division by zero)\n",
        "    if P + R == 0:\n",
        "        f1 = 0\n",
        "    else:\n",
        "        f1 = 2 * P * R / (P + R)\n",
        "\n",
        "    f1_scores.append(f1)"
      ],
      "metadata": {
        "id": "qsoAu7_QicRT"
      },
      "execution_count": 148,
      "outputs": []
    },
    {
      "cell_type": "code",
      "source": [
        "# Plot F1 score\n",
        "plt.figure(figsize=(10, 6))\n",
        "plt.plot(thresholds, f1_scores, linewidth=2, color='green')\n",
        "plt.xlabel('Threshold')\n",
        "plt.ylabel('F1 Score')\n",
        "plt.title('F1 Score vs Threshold')\n",
        "plt.grid(True, alpha=0.3)\n",
        "plt.show()"
      ],
      "metadata": {
        "colab": {
          "base_uri": "https://localhost:8080/",
          "height": 564
        },
        "id": "pxz4rqjyifKv",
        "outputId": "1d7f13f7-2b06-44e7-c57c-a3fbea23112d"
      },
      "execution_count": 149,
      "outputs": [
        {
          "output_type": "display_data",
          "data": {
            "text/plain": [
              "<Figure size 1000x600 with 1 Axes>"
            ],
            "image/png": "[encoded data removed]"
          },
          "metadata": {}
        }
      ]
    },
    {
      "cell_type": "code",
      "source": [
        "# Find threshold with maximum F1\n",
        "max_f1_idx = np.argmax(f1_scores)\n",
        "max_f1_threshold = thresholds[max_f1_idx]\n",
        "max_f1_value = f1_scores[max_f1_idx]\n",
        "\n",
        "print(f\"\\nMaximum F1 score: {max_f1_value:.4f}\")\n",
        "print(f\"Threshold at maximum F1: {max_f1_threshold:.2f}\")\n",
        "print(f\"\\n>>> ANSWER Q4: {max_f1_threshold:.2f}\")"
      ],
      "metadata": {
        "colab": {
          "base_uri": "https://localhost:8080/"
        },
        "id": "CeN_tmERihzR",
        "outputId": "06da12bb-1378-4cef-d802-4748df964170"
      },
      "execution_count": 150,
      "outputs": [
        {
          "output_type": "stream",
          "name": "stdout",
          "text": [
            "\n",
            "Maximum F1 score: 0.8125\n",
            "Threshold at maximum F1: 0.57\n",
            "\n",
            ">>> ANSWER Q4: 0.57\n"
          ]
        }
      ]
    },
    {
      "cell_type": "code",
      "source": [
        "print(\"\\n\" + \"=\"*80)\n",
        "print(\"QUESTION 5: 5-Fold Cross-Validation\")\n",
        "print(\"=\"*80)"
      ],
      "metadata": {
        "colab": {
          "base_uri": "https://localhost:8080/"
        },
        "id": "KWJrjgHzikA7",
        "outputId": "fc553395-324c-4cf8-de3a-c6a3fb21795b"
      },
      "execution_count": 45,
      "outputs": [
        {
          "output_type": "stream",
          "name": "stdout",
          "text": [
            "\n",
            "================================================================================\n",
            "QUESTION 5: 5-Fold Cross-Validation\n",
            "================================================================================\n"
          ]
        }
      ]
    },
    {
      "cell_type": "code",
      "source": [
        "kfold = KFold(n_splits=5, shuffle=True, random_state=1)\n",
        "auc_scores_cv = []"
      ],
      "metadata": {
        "id": "BjQMmQYKkTWf"
      },
      "execution_count": 155,
      "outputs": []
    },
    {
      "cell_type": "code",
      "source": [
        "for fold, (train_idx, val_idx) in enumerate(kfold.split(df_full_train)):\n",
        "    df_fold_train = df_full_train.iloc[train_idx]\n",
        "    df_fold_val = df_full_train.iloc[val_idx]\n",
        "\n",
        "    fold_train_dicts = prepare_data(df_fold_train)\n",
        "    fold_val_dicts = prepare_data(df_fold_val)\n",
        "\n",
        "    dv_fold = DictVectorizer(sparse=False)\n",
        "    X_fold_train = dv_fold.fit_transform(fold_train_dicts)\n",
        "    X_fold_val = dv_fold.transform(fold_val_dicts)\n",
        "\n",
        "    y_fold_train = df_fold_train['converted'].values\n",
        "    y_fold_val = df_fold_val['converted'].values\n",
        "\n",
        "    model_fold = LogisticRegression(solver='liblinear', C=1.0, max_iter=1000)\n",
        "    model_fold.fit(X_fold_train, y_fold_train)\n",
        "\n",
        "    y_fold_pred = model_fold.predict_proba(X_fold_val)[:, 1]\n",
        "    auc_fold = roc_auc_score(y_fold_val, y_fold_pred)\n",
        "\n",
        "    auc_scores_cv.append(auc_fold)\n",
        "    print(f\"Fold {fold + 1}: AUC = {auc_fold:.4f}\")\n",
        "\n",
        "std_auc = np.std(auc_scores_cv)\n",
        "std_auc_sample = np.std(auc_scores_cv, ddof=1)\n",
        "mean_auc = np.mean(auc_scores_cv)\n",
        "\n",
        "print(f\"\\nMean AUC: {mean_auc:.4f}\")\n",
        "print(f\"Standard deviation (population, ddof=0): {std_auc:.4f}\")\n",
        "print(f\"Standard deviation (sample, ddof=1): {std_auc_sample:.4f}\")\n",
        "print(f\"\\n>>> ANSWER Q5: {std_auc:.4f}\")"
      ],
      "metadata": {
        "colab": {
          "base_uri": "https://localhost:8080/"
        },
        "id": "3ZGWxDakimOn",
        "outputId": "5913bc3d-c6c1-4b8d-caa1-581fb7c36d23"
      },
      "execution_count": 156,
      "outputs": [
        {
          "output_type": "stream",
          "name": "stdout",
          "text": [
            "Fold 1: AUC = 0.8061\n",
            "Fold 2: AUC = 0.8714\n",
            "Fold 3: AUC = 0.7754\n",
            "Fold 4: AUC = 0.8018\n",
            "Fold 5: AUC = 0.8558\n",
            "\n",
            "Mean AUC: 0.8221\n",
            "Standard deviation (population, ddof=0): 0.0358\n",
            "Standard deviation (sample, ddof=1): 0.0400\n",
            "\n",
            ">>> ANSWER Q5: 0.0358\n"
          ]
        }
      ]
    },
    {
      "cell_type": "code",
      "source": [
        "print(\"\\n\" + \"=\"*80)\n",
        "print(\"QUESTION 6: Hyperparameter Tuning\")\n",
        "print(\"=\"*80)\n"
      ],
      "metadata": {
        "colab": {
          "base_uri": "https://localhost:8080/"
        },
        "id": "Fyr08RIvkYL5",
        "outputId": "d2d78b19-8313-456f-df2f-9147553485ba"
      },
      "execution_count": 157,
      "outputs": [
        {
          "output_type": "stream",
          "name": "stdout",
          "text": [
            "\n",
            "================================================================================\n",
            "QUESTION 6: Hyperparameter Tuning\n",
            "================================================================================\n"
          ]
        }
      ]
    },
    {
      "cell_type": "code",
      "source": [
        "C_values = [0.000001, 0.001, 1]\n",
        "results = {}"
      ],
      "metadata": {
        "id": "f4f9tNw0kaJt"
      },
      "execution_count": 158,
      "outputs": []
    },
    {
      "cell_type": "code",
      "source": [
        "for C in C_values:\n",
        "    print(f\"\\nTesting C = {C}\")\n",
        "    kfold = KFold(n_splits=5, shuffle=True, random_state=1)\n",
        "    auc_scores_c = []\n",
        "    for fold, (train_idx, val_idx) in enumerate(kfold.split(df_full_train)):\n",
        "        df_fold_train = df_full_train.iloc[train_idx]\n",
        "        df_fold_val = df_full_train.iloc[val_idx]\n",
        "        fold_train_dicts = prepare_data(df_fold_train)\n",
        "        fold_val_dicts = prepare_data(df_fold_val)\n",
        "        dv_fold = DictVectorizer(sparse=False)\n",
        "        X_fold_train = dv_fold.fit_transform(fold_train_dicts)\n",
        "        X_fold_val = dv_fold.transform(fold_val_dicts)\n",
        "        y_fold_train = df_fold_train['converted'].values\n",
        "        y_fold_val = df_fold_val['converted'].values\n",
        "        model_c = LogisticRegression(solver='liblinear', C=C, max_iter=1000)\n",
        "        model_c.fit(X_fold_train, y_fold_train)\n",
        "        y_fold_pred = model_c.predict_proba(X_fold_val)[:, 1]\n",
        "        auc_fold = roc_auc_score(y_fold_val, y_fold_pred)\n",
        "        auc_scores_c.append(auc_fold)\n",
        "    mean_auc_c = np.mean(auc_scores_c)\n",
        "    std_auc_c = np.std(auc_scores_c)\n",
        "    results[C] = {'mean': round(mean_auc_c, 3), 'std': round(std_auc_c, 3)}\n",
        "    print(f\"  Mean AUC: {results[C]['mean']:.3f}\")\n",
        "    print(f\"  Std AUC: {results[C]['std']:.3f}\")"
      ],
      "metadata": {
        "colab": {
          "base_uri": "https://localhost:8080/"
        },
        "id": "0ag-qoO1kcE5",
        "outputId": "4b4ccf73-bc87-4b90-e70e-796485534237"
      },
      "execution_count": 159,
      "outputs": [
        {
          "output_type": "stream",
          "name": "stdout",
          "text": [
            "\n",
            "Testing C = 1e-06\n",
            "  Mean AUC: 0.560\n",
            "  Std AUC: 0.024\n",
            "\n",
            "Testing C = 0.001\n",
            "  Mean AUC: 0.867\n",
            "  Std AUC: 0.029\n",
            "\n",
            "Testing C = 1\n",
            "  Mean AUC: 0.822\n",
            "  Std AUC: 0.036\n"
          ]
        }
      ]
    },
    {
      "cell_type": "code",
      "source": [
        "print(\"\\n\" + \"-\"*50)\n",
        "print(\"SUMMARY OF RESULTS:\")\n",
        "print(\"-\"*50)\n",
        "for C in C_values:\n",
        "    print(f\"C = {C:9.6f}: Mean = {results[C]['mean']:.3f}, Std = {results[C]['std']:.3f}\")\n",
        "\n",
        "best_C = max(C_values, key=lambda c: (results[c]['mean'], -results[c]['std'], -c))\n",
        "print(f\"\\nAnswer Q6: C = {best_C} leads to the best mean score\")\n",
        "print(f\"Best result: Mean = {results[best_C]['mean']:.3f}, Std = {results[best_C]['std']:.3f}\")\n",
        "\n"
      ],
      "metadata": {
        "colab": {
          "base_uri": "https://localhost:8080/"
        },
        "id": "hP7do4W1kfUv",
        "outputId": "21229f4b-ce3f-4a18-c195-4bfe87785681"
      },
      "execution_count": 160,
      "outputs": [
        {
          "output_type": "stream",
          "name": "stdout",
          "text": [
            "\n",
            "--------------------------------------------------\n",
            "SUMMARY OF RESULTS:\n",
            "--------------------------------------------------\n",
            "C =  0.000001: Mean = 0.560, Std = 0.024\n",
            "C =  0.001000: Mean = 0.867, Std = 0.029\n",
            "C =  1.000000: Mean = 0.822, Std = 0.036\n",
            "\n",
            "Answer Q6: C = 0.001 leads to the best mean score\n",
            "Best result: Mean = 0.867, Std = 0.029\n"
          ]
        }
      ]
    },
    {
      "cell_type": "code",
      "source": [
        "# FINAL SUMMARY\n",
        "print(\"\\n\" + \"=\"*80)\n",
        "print(\"FINAL ANSWERS SUMMARY\")\n",
        "print(\"=\"*80)\n",
        "print(f\"Q1: Feature with highest AUC - {best_feature}\")\n",
        "print(f\"Q2: AUC on validation - {auc_val:.3f}\")\n",
        "print(f\"Q3: Precision-Recall intersection - {intersection_threshold:.3f}\")\n",
        "print(f\"Q4: Threshold at max F1 - {max_f1_threshold:.2f}\")\n",
        "print(f\"Q5: Std deviation of CV scores - {std_auc:.4f}\")\n",
        "print(f\"Q6: Best C value - {best_C}\")\n",
        "print(\"=\"*80)"
      ],
      "metadata": {
        "colab": {
          "base_uri": "https://localhost:8080/"
        },
        "id": "xx-fHEp_kp4J",
        "outputId": "f9ebc402-6971-44b7-af3d-a5d8563569db"
      },
      "execution_count": 162,
      "outputs": [
        {
          "output_type": "stream",
          "name": "stdout",
          "text": [
            "\n",
            "================================================================================\n",
            "FINAL ANSWERS SUMMARY\n",
            "================================================================================\n",
            "Q1: Feature with highest AUC - number_of_courses_viewed\n",
            "Q2: AUC on validation - 0.817\n",
            "Q3: Precision-Recall intersection - 0.640\n",
            "Q4: Threshold at max F1 - 0.57\n",
            "Q5: Std deviation of CV scores - 0.0358\n",
            "Q6: Best C value - 0.001\n",
            "================================================================================\n"
          ]
        }
      ]
    }
  ]
}