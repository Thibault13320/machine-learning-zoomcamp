{
  "nbformat": 4,
  "nbformat_minor": 0,
  "metadata": {
    "colab": {
      "provenance": [],
      "authorship_tag": "ABX9TyO4ZA0cl261Oa3e3Gar5cUx",
      "include_colab_link": true
    },
    "kernelspec": {
      "name": "python3",
      "display_name": "Python 3"
    },
    "language_info": {
      "name": "python"
    }
  },
  "cells": [
    {
      "cell_type": "markdown",
      "metadata": {
        "id": "view-in-github",
        "colab_type": "text"
      },
      "source": [
        "<a href=\"https://colab.research.google.com/github/Thibault13320/machine-learning-zoomcamp/blob/main/03-classification/homework.ipynb\" target=\"_parent\"><img src=\"https://colab.research.google.com/assets/colab-badge.svg\" alt=\"Open In Colab\"/></a>"
      ]
    },
    {
      "cell_type": "code",
      "execution_count": 1,
      "metadata": {
        "id": "NYtmvTbw9agP"
      },
      "outputs": [],
      "source": [
        "# Import necessary libraries\n",
        "import pandas as pd\n",
        "import numpy as np\n",
        "from sklearn.model_selection import train_test_split\n",
        "from sklearn.linear_model import LogisticRegression\n",
        "from sklearn.feature_extraction import DictVectorizer\n",
        "from sklearn.metrics import accuracy_score, mutual_info_score"
      ]
    },
    {
      "cell_type": "code",
      "source": [
        "# Download the dataset\n",
        "!wget https://raw.githubusercontent.com/alexeygrigorev/datasets/master/course_lead_scoring.csv"
      ],
      "metadata": {
        "colab": {
          "base_uri": "https://localhost:8080/"
        },
        "id": "AdD8dqrp-F6d",
        "outputId": "537dfeed-2916-4913-d738-c2b44af7eedf"
      },
      "execution_count": 2,
      "outputs": [
        {
          "output_type": "stream",
          "name": "stdout",
          "text": [
            "--2025-10-11 11:11:58--  https://raw.githubusercontent.com/alexeygrigorev/datasets/master/course_lead_scoring.csv\n",
            "Resolving raw.githubusercontent.com (raw.githubusercontent.com)... 185.199.108.133, 185.199.110.133, 185.199.109.133, ...\n",
            "Connecting to raw.githubusercontent.com (raw.githubusercontent.com)|185.199.108.133|:443... connected.\n",
            "HTTP request sent, awaiting response... 200 OK\n",
            "Length: 80876 (79K) [text/plain]\n",
            "Saving to: ‘course_lead_scoring.csv’\n",
            "\n",
            "course_lead_scoring 100%[===================>]  78.98K  --.-KB/s    in 0.05s   \n",
            "\n",
            "2025-10-11 11:11:59 (1.65 MB/s) - ‘course_lead_scoring.csv’ saved [80876/80876]\n",
            "\n"
          ]
        }
      ]
    },
    {
      "cell_type": "code",
      "source": [
        "# Load the dataset\n",
        "df = pd.read_csv('course_lead_scoring.csv')\n",
        "\n",
        "print(\"Dataset shape:\", df.shape)\n",
        "print(\"\\nFirst few rows:\")\n",
        "print(df.head())\n",
        "print(\"\\nDataset info:\")\n",
        "print(df.info())"
      ],
      "metadata": {
        "colab": {
          "base_uri": "https://localhost:8080/"
        },
        "id": "S9QtJkaf-LEs",
        "outputId": "670ffa2f-31be-4529-ba24-9a802422fb04"
      },
      "execution_count": 3,
      "outputs": [
        {
          "output_type": "stream",
          "name": "stdout",
          "text": [
            "Dataset shape: (1462, 9)\n",
            "\n",
            "First few rows:\n",
            "    lead_source    industry  number_of_courses_viewed  annual_income  \\\n",
            "0      paid_ads         NaN                         1        79450.0   \n",
            "1  social_media      retail                         1        46992.0   \n",
            "2        events  healthcare                         5        78796.0   \n",
            "3      paid_ads      retail                         2        83843.0   \n",
            "4      referral   education                         3        85012.0   \n",
            "\n",
            "  employment_status       location  interaction_count  lead_score  converted  \n",
            "0        unemployed  south_america                  4        0.94          1  \n",
            "1          employed  south_america                  1        0.80          0  \n",
            "2        unemployed      australia                  3        0.69          1  \n",
            "3               NaN      australia                  1        0.87          0  \n",
            "4     self_employed         europe                  3        0.62          1  \n",
            "\n",
            "Dataset info:\n",
            "<class 'pandas.core.frame.DataFrame'>\n",
            "RangeIndex: 1462 entries, 0 to 1461\n",
            "Data columns (total 9 columns):\n",
            " #   Column                    Non-Null Count  Dtype  \n",
            "---  ------                    --------------  -----  \n",
            " 0   lead_source               1334 non-null   object \n",
            " 1   industry                  1328 non-null   object \n",
            " 2   number_of_courses_viewed  1462 non-null   int64  \n",
            " 3   annual_income             1281 non-null   float64\n",
            " 4   employment_status         1362 non-null   object \n",
            " 5   location                  1399 non-null   object \n",
            " 6   interaction_count         1462 non-null   int64  \n",
            " 7   lead_score                1462 non-null   float64\n",
            " 8   converted                 1462 non-null   int64  \n",
            "dtypes: float64(2), int64(3), object(4)\n",
            "memory usage: 102.9+ KB\n",
            "None\n"
          ]
        }
      ]
    },
    {
      "cell_type": "code",
      "source": [
        "# =============================================================================\n",
        "# DATA PREPARATION\n",
        "# =============================================================================\n",
        "\n",
        "print(\"\\n\" + \"=\"*80)\n",
        "print(\"DATA PREPARATION\")\n",
        "print(\"=\"*80)\n"
      ],
      "metadata": {
        "colab": {
          "base_uri": "https://localhost:8080/"
        },
        "id": "Rp02JHbF-Rq3",
        "outputId": "3dfe1162-c0c8-49eb-889a-d5b360f1556f"
      },
      "execution_count": 4,
      "outputs": [
        {
          "output_type": "stream",
          "name": "stdout",
          "text": [
            "\n",
            "================================================================================\n",
            "DATA PREPARATION\n",
            "================================================================================\n"
          ]
        }
      ]
    },
    {
      "cell_type": "code",
      "source": [
        "# Check for missing values\n",
        "print(\"\\nMissing values per column:\")\n",
        "print(df.isnull().sum())"
      ],
      "metadata": {
        "colab": {
          "base_uri": "https://localhost:8080/"
        },
        "id": "neOp-YvN-TfR",
        "outputId": "a519188d-45b2-42cb-eea5-408e3e38781e"
      },
      "execution_count": 5,
      "outputs": [
        {
          "output_type": "stream",
          "name": "stdout",
          "text": [
            "\n",
            "Missing values per column:\n",
            "lead_source                 128\n",
            "industry                    134\n",
            "number_of_courses_viewed      0\n",
            "annual_income               181\n",
            "employment_status           100\n",
            "location                     63\n",
            "interaction_count             0\n",
            "lead_score                    0\n",
            "converted                     0\n",
            "dtype: int64\n"
          ]
        }
      ]
    },
    {
      "cell_type": "code",
      "source": [
        "# Identify categorical and numerical columns\n",
        "categorical_cols = df.select_dtypes(include=['object']).columns.tolist()\n",
        "numerical_cols = df.select_dtypes(include=['number']).columns.tolist()"
      ],
      "metadata": {
        "id": "RC_aP1ox-ahV"
      },
      "execution_count": 6,
      "outputs": []
    },
    {
      "cell_type": "code",
      "source": [
        "# Remove 'converted' from categorical if present\n",
        "if 'converted' in categorical_cols:\n",
        "    categorical_cols.remove('converted')\n",
        "if 'converted' in numerical_cols:\n",
        "    numerical_cols.remove('converted')\n",
        "\n",
        "print(f\"\\nCategorical columns: {categorical_cols}\")\n",
        "print(f\"Numerical columns: {numerical_cols}\")"
      ],
      "metadata": {
        "colab": {
          "base_uri": "https://localhost:8080/"
        },
        "id": "wkII_RRS-eK8",
        "outputId": "d81d1c46-4e0d-47b5-8331-636ae9eeefb4"
      },
      "execution_count": 7,
      "outputs": [
        {
          "output_type": "stream",
          "name": "stdout",
          "text": [
            "\n",
            "Categorical columns: ['lead_source', 'industry', 'employment_status', 'location']\n",
            "Numerical columns: ['number_of_courses_viewed', 'annual_income', 'interaction_count', 'lead_score']\n"
          ]
        }
      ]
    },
    {
      "cell_type": "code",
      "source": [
        "# Handle missing values\n",
        "# For categorical features: replace with 'NA'\n",
        "for col in categorical_cols:\n",
        "    df[col] = df[col].fillna('NA')"
      ],
      "metadata": {
        "id": "4oNA3P4B-g4Z"
      },
      "execution_count": 8,
      "outputs": []
    },
    {
      "cell_type": "code",
      "source": [
        "# For numerical features: replace with 0.0\n",
        "for col in numerical_cols:\n",
        "    df[col] = df[col].fillna(0.0)\n",
        "\n",
        "print(\"\\nMissing values after imputation:\")\n",
        "print(df.isnull().sum().sum())\n"
      ],
      "metadata": {
        "colab": {
          "base_uri": "https://localhost:8080/"
        },
        "id": "26USGNns-jST",
        "outputId": "bd233fea-418a-4b73-d886-a0569cf0b5c6"
      },
      "execution_count": 9,
      "outputs": [
        {
          "output_type": "stream",
          "name": "stdout",
          "text": [
            "\n",
            "Missing values after imputation:\n",
            "0\n"
          ]
        }
      ]
    },
    {
      "cell_type": "code",
      "source": [
        "# =============================================================================\n",
        "# QUESTION 1: Most frequent observation (mode) for 'industry'\n",
        "# =============================================================================\n",
        "\n",
        "print(\"\\n\" + \"=\"*80)\n",
        "print(\"QUESTION 1\")\n",
        "print(\"=\"*80)\n",
        "\n",
        "mode_industry = df['industry'].mode()[0]\n",
        "print(f\"\\nMost frequent observation (mode) for 'industry': {mode_industry}\")"
      ],
      "metadata": {
        "colab": {
          "base_uri": "https://localhost:8080/"
        },
        "id": "acFs2ydG-m2d",
        "outputId": "d52e6fcd-6982-48a5-d996-22a36201baa5"
      },
      "execution_count": 10,
      "outputs": [
        {
          "output_type": "stream",
          "name": "stdout",
          "text": [
            "\n",
            "================================================================================\n",
            "QUESTION 1\n",
            "================================================================================\n",
            "\n",
            "Most frequent observation (mode) for 'industry': retail\n"
          ]
        }
      ]
    },
    {
      "cell_type": "code",
      "source": [
        "# Show value counts for verification\n",
        "print(\"\\nIndustry value counts:\")\n",
        "print(df['industry'].value_counts())"
      ],
      "metadata": {
        "colab": {
          "base_uri": "https://localhost:8080/"
        },
        "id": "XGVSTI0b-qmU",
        "outputId": "b3eb10a3-b584-479e-ea37-d594d5d075d6"
      },
      "execution_count": 11,
      "outputs": [
        {
          "output_type": "stream",
          "name": "stdout",
          "text": [
            "\n",
            "Industry value counts:\n",
            "industry\n",
            "retail           203\n",
            "finance          200\n",
            "other            198\n",
            "healthcare       187\n",
            "education        187\n",
            "technology       179\n",
            "manufacturing    174\n",
            "NA               134\n",
            "Name: count, dtype: int64\n"
          ]
        }
      ]
    },
    {
      "cell_type": "code",
      "source": [
        "# =============================================================================\n",
        "# QUESTION 2: Correlation matrix for numerical features\n",
        "# =============================================================================\n",
        "\n",
        "print(\"\\n\" + \"=\"*80)\n",
        "print(\"QUESTION 2\")\n",
        "print(\"=\"*80)\n"
      ],
      "metadata": {
        "colab": {
          "base_uri": "https://localhost:8080/"
        },
        "id": "iZFYtB9m--AH",
        "outputId": "f93bbff5-034f-47a5-f21d-4245b7124cb7"
      },
      "execution_count": 12,
      "outputs": [
        {
          "output_type": "stream",
          "name": "stdout",
          "text": [
            "\n",
            "================================================================================\n",
            "QUESTION 2\n",
            "================================================================================\n"
          ]
        }
      ]
    },
    {
      "cell_type": "code",
      "source": [
        "# Create correlation matrix for numerical features\n",
        "corr_matrix = df[numerical_cols].corr()\n",
        "print(\"\\nCorrelation matrix:\")\n",
        "print(corr_matrix)"
      ],
      "metadata": {
        "colab": {
          "base_uri": "https://localhost:8080/"
        },
        "id": "DfpuB6HU_A4f",
        "outputId": "62cc86ee-c1bf-407a-b855-a7d2b5de9524"
      },
      "execution_count": 13,
      "outputs": [
        {
          "output_type": "stream",
          "name": "stdout",
          "text": [
            "\n",
            "Correlation matrix:\n",
            "                          number_of_courses_viewed  annual_income  \\\n",
            "number_of_courses_viewed                  1.000000       0.009770   \n",
            "annual_income                             0.009770       1.000000   \n",
            "interaction_count                        -0.023565       0.027036   \n",
            "lead_score                               -0.004879       0.015610   \n",
            "\n",
            "                          interaction_count  lead_score  \n",
            "number_of_courses_viewed          -0.023565   -0.004879  \n",
            "annual_income                      0.027036    0.015610  \n",
            "interaction_count                  1.000000    0.009888  \n",
            "lead_score                         0.009888    1.000000  \n"
          ]
        }
      ]
    },
    {
      "cell_type": "code",
      "source": [
        "# Check specific pairs\n",
        "pairs = [\n",
        "    ('interaction_count', 'lead_score'),\n",
        "    ('number_of_courses_viewed', 'lead_score'),\n",
        "    ('number_of_courses_viewed', 'interaction_count'),\n",
        "    ('annual_income', 'interaction_count')\n",
        "]\n",
        "\n",
        "print(\"\\nCorrelation coefficients for specific pairs:\")\n",
        "max_corr = 0\n",
        "max_pair = None\n",
        "\n",
        "for feat1, feat2 in pairs:\n",
        "    if feat1 in numerical_cols and feat2 in numerical_cols:\n",
        "        corr_val = corr_matrix.loc[feat1, feat2]\n",
        "        print(f\"{feat1} and {feat2}: {corr_val:.4f}\")\n",
        "        if abs(corr_val) > max_corr:\n",
        "            max_corr = abs(corr_val)\n",
        "            max_pair = (feat1, feat2)\n",
        "\n",
        "print(f\"\\nPair with biggest correlation: {max_pair[0]} and {max_pair[1]} ({max_corr:.4f})\")"
      ],
      "metadata": {
        "colab": {
          "base_uri": "https://localhost:8080/"
        },
        "id": "ZSvv0TaY_DP0",
        "outputId": "31a06d5f-0a11-4368-d158-64f28ab28106"
      },
      "execution_count": 14,
      "outputs": [
        {
          "output_type": "stream",
          "name": "stdout",
          "text": [
            "\n",
            "Correlation coefficients for specific pairs:\n",
            "interaction_count and lead_score: 0.0099\n",
            "number_of_courses_viewed and lead_score: -0.0049\n",
            "number_of_courses_viewed and interaction_count: -0.0236\n",
            "annual_income and interaction_count: 0.0270\n",
            "\n",
            "Pair with biggest correlation: annual_income and interaction_count (0.0270)\n"
          ]
        }
      ]
    },
    {
      "cell_type": "code",
      "source": [
        "# =============================================================================\n",
        "# SPLIT THE DATA\n",
        "# =============================================================================\n",
        "\n",
        "print(\"\\n\" + \"=\"*80)\n",
        "print(\"DATA SPLITTING\")\n",
        "print(\"=\"*80)"
      ],
      "metadata": {
        "colab": {
          "base_uri": "https://localhost:8080/"
        },
        "id": "2E0eMnB1_dJx",
        "outputId": "1f2a979f-6437-4f39-989d-fcc7eb949c24"
      },
      "execution_count": 15,
      "outputs": [
        {
          "output_type": "stream",
          "name": "stdout",
          "text": [
            "\n",
            "================================================================================\n",
            "DATA SPLITTING\n",
            "================================================================================\n"
          ]
        }
      ]
    },
    {
      "cell_type": "code",
      "source": [
        "# First split: 60% train, 40% temp\n",
        "df_train_full, df_temp = train_test_split(df, test_size=0.4, random_state=42)\n"
      ],
      "metadata": {
        "id": "zqtDasAi_eF7"
      },
      "execution_count": 16,
      "outputs": []
    },
    {
      "cell_type": "code",
      "source": [
        "# Second split: split temp into 50-50 to get 20% val and 20% test\n",
        "df_val, df_test = train_test_split(df_temp, test_size=0.5, random_state=42)\n",
        "\n",
        "print(f\"\\nTrain size: {len(df_train_full)} ({len(df_train_full)/len(df)*100:.1f}%)\")\n",
        "print(f\"Validation size: {len(df_val)} ({len(df_val)/len(df)*100:.1f}%)\")\n",
        "print(f\"Test size: {len(df_test)} ({len(df_test)/len(df)*100:.1f}%)\")"
      ],
      "metadata": {
        "colab": {
          "base_uri": "https://localhost:8080/"
        },
        "id": "UlPXBWe-_kZn",
        "outputId": "6a2e7aca-dade-4948-9e30-bd866a8525ef"
      },
      "execution_count": 17,
      "outputs": [
        {
          "output_type": "stream",
          "name": "stdout",
          "text": [
            "\n",
            "Train size: 877 (60.0%)\n",
            "Validation size: 292 (20.0%)\n",
            "Test size: 293 (20.0%)\n"
          ]
        }
      ]
    },
    {
      "cell_type": "code",
      "source": [
        "# Reset indices\n",
        "df_train_full = df_train_full.reset_index(drop=True)\n",
        "df_val = df_val.reset_index(drop=True)\n",
        "df_test = df_test.reset_index(drop=True)"
      ],
      "metadata": {
        "id": "5TX90DBR_nQu"
      },
      "execution_count": 18,
      "outputs": []
    },
    {
      "cell_type": "code",
      "source": [
        "# Extract target variable\n",
        "y_train = df_train_full['converted'].values\n",
        "y_val = df_val['converted'].values\n",
        "y_test = df_test['converted'].values"
      ],
      "metadata": {
        "id": "KLZMVw32_ptP"
      },
      "execution_count": 19,
      "outputs": []
    },
    {
      "cell_type": "code",
      "source": [
        "# Remove target from features\n",
        "df_train = df_train_full.drop(columns=['converted'])\n",
        "df_val_features = df_val.drop(columns=['converted'])\n",
        "df_test_features = df_test.drop(columns=['converted'])\n",
        "\n",
        "print(f\"\\nTarget distribution in train: {pd.Series(y_train).value_counts().to_dict()}\")"
      ],
      "metadata": {
        "colab": {
          "base_uri": "https://localhost:8080/"
        },
        "id": "tJCAVGaY_scx",
        "outputId": "28cd8575-df9c-4d3f-fba7-2df0994cf4df"
      },
      "execution_count": 20,
      "outputs": [
        {
          "output_type": "stream",
          "name": "stdout",
          "text": [
            "\n",
            "Target distribution in train: {1: 535, 0: 342}\n"
          ]
        }
      ]
    },
    {
      "cell_type": "code",
      "source": [
        "# =============================================================================\n",
        "# QUESTION 3: Mutual information score\n",
        "# =============================================================================\n",
        "\n",
        "print(\"\\n\" + \"=\"*80)\n",
        "print(\"QUESTION 3\")\n",
        "print(\"=\"*80)"
      ],
      "metadata": {
        "colab": {
          "base_uri": "https://localhost:8080/"
        },
        "id": "A4SFrmZ-_v1-",
        "outputId": "67d9e21c-4db6-4324-b9e8-d6fc9f2ab2ec"
      },
      "execution_count": 21,
      "outputs": [
        {
          "output_type": "stream",
          "name": "stdout",
          "text": [
            "\n",
            "================================================================================\n",
            "QUESTION 3\n",
            "================================================================================\n"
          ]
        }
      ]
    },
    {
      "cell_type": "code",
      "source": [
        "# Calculate mutual information for categorical variables\n",
        "mi_scores = {}\n",
        "\n",
        "for col in categorical_cols:\n",
        "    mi_score = mutual_info_score(y_train, df_train[col])\n",
        "    mi_scores[col] = round(mi_score, 2)\n",
        "\n",
        "print(\"\\nMutual information scores:\")\n",
        "for col, score in sorted(mi_scores.items(), key=lambda x: x[1], reverse=True):\n",
        "    print(f\"{col}: {score}\")\n",
        "\n",
        "max_mi_feature = max(mi_scores, key=mi_scores.get)\n",
        "print(f\"\\nFeature with highest mutual information: {max_mi_feature} ({mi_scores[max_mi_feature]})\")"
      ],
      "metadata": {
        "colab": {
          "base_uri": "https://localhost:8080/"
        },
        "id": "Dk8uth3B_zB7",
        "outputId": "560ecb7d-6d89-44c9-e1a3-a2913a91a165"
      },
      "execution_count": 22,
      "outputs": [
        {
          "output_type": "stream",
          "name": "stdout",
          "text": [
            "\n",
            "Mutual information scores:\n",
            "lead_source: 0.03\n",
            "industry: 0.02\n",
            "employment_status: 0.02\n",
            "location: 0.0\n",
            "\n",
            "Feature with highest mutual information: lead_source (0.03)\n"
          ]
        }
      ]
    },
    {
      "cell_type": "code",
      "source": [
        "# =============================================================================\n",
        "# QUESTION 4: Train logistic regression with one-hot encoding\n",
        "# =============================================================================\n",
        "\n",
        "print(\"\\n\" + \"=\"*80)\n",
        "print(\"QUESTION 4\")\n",
        "print(\"=\"*80)"
      ],
      "metadata": {
        "colab": {
          "base_uri": "https://localhost:8080/"
        },
        "id": "YKxcUh9d_7rV",
        "outputId": "8c9e63fa-e78c-4fa8-e3e0-cfcda48b8e6a"
      },
      "execution_count": 23,
      "outputs": [
        {
          "output_type": "stream",
          "name": "stdout",
          "text": [
            "\n",
            "================================================================================\n",
            "QUESTION 4\n",
            "================================================================================\n"
          ]
        }
      ]
    },
    {
      "cell_type": "code",
      "source": [
        "# Prepare data with one-hot encoding using DictVectorizer\n",
        "train_dicts = df_train.to_dict(orient='records')\n",
        "val_dicts = df_val_features.to_dict(orient='records')\n",
        "\n",
        "dv = DictVectorizer(sparse=False)\n",
        "X_train = dv.fit_transform(train_dicts)\n",
        "X_val = dv.transform(val_dicts)\n",
        "\n",
        "print(f\"\\nFeature matrix shape - Train: {X_train.shape}, Val: {X_val.shape}\")"
      ],
      "metadata": {
        "colab": {
          "base_uri": "https://localhost:8080/"
        },
        "id": "SkXu9gUC_-t5",
        "outputId": "1215733a-1c95-4299-afad-1fed5c8ea033"
      },
      "execution_count": 24,
      "outputs": [
        {
          "output_type": "stream",
          "name": "stdout",
          "text": [
            "\n",
            "Feature matrix shape - Train: (877, 31), Val: (292, 31)\n"
          ]
        }
      ]
    },
    {
      "cell_type": "code",
      "source": [
        "# Train logistic regression\n",
        "model = LogisticRegression(solver='liblinear', C=1.0, max_iter=1000, random_state=42)\n",
        "model.fit(X_train, y_train)"
      ],
      "metadata": {
        "colab": {
          "base_uri": "https://localhost:8080/",
          "height": 80
        },
        "id": "BqnhXhYjABIm",
        "outputId": "0ada303c-2949-435e-9f7e-06fc673c7277"
      },
      "execution_count": 25,
      "outputs": [
        {
          "output_type": "execute_result",
          "data": {
            "text/plain": [
              "LogisticRegression(max_iter=1000, random_state=42, solver='liblinear')"
            ],
            "text/html": [
              "<style>#sk-container-id-1 {\n",
              "  /* Definition of color scheme common for light and dark mode */\n",
              "  --sklearn-color-text: #000;\n",
              "  --sklearn-color-text-muted: #666;\n",
              "  --sklearn-color-line: gray;\n",
              "  /* Definition of color scheme for unfitted estimators */\n",
              "  --sklearn-color-unfitted-level-0: #fff5e6;\n",
              "  --sklearn-color-unfitted-level-1: #f6e4d2;\n",
              "  --sklearn-color-unfitted-level-2: #ffe0b3;\n",
              "  --sklearn-color-unfitted-level-3: chocolate;\n",
              "  /* Definition of color scheme for fitted estimators */\n",
              "  --sklearn-color-fitted-level-0: #f0f8ff;\n",
              "  --sklearn-color-fitted-level-1: #d4ebff;\n",
              "  --sklearn-color-fitted-level-2: #b3dbfd;\n",
              "  --sklearn-color-fitted-level-3: cornflowerblue;\n",
              "\n",
              "  /* Specific color for light theme */\n",
              "  --sklearn-color-text-on-default-background: var(--sg-text-color, var(--theme-code-foreground, var(--jp-content-font-color1, black)));\n",
              "  --sklearn-color-background: var(--sg-background-color, var(--theme-background, var(--jp-layout-color0, white)));\n",
              "  --sklearn-color-border-box: var(--sg-text-color, var(--theme-code-foreground, var(--jp-content-font-color1, black)));\n",
              "  --sklearn-color-icon: #696969;\n",
              "\n",
              "  @media (prefers-color-scheme: dark) {\n",
              "    /* Redefinition of color scheme for dark theme */\n",
              "    --sklearn-color-text-on-default-background: var(--sg-text-color, var(--theme-code-foreground, var(--jp-content-font-color1, white)));\n",
              "    --sklearn-color-background: var(--sg-background-color, var(--theme-background, var(--jp-layout-color0, #111)));\n",
              "    --sklearn-color-border-box: var(--sg-text-color, var(--theme-code-foreground, var(--jp-content-font-color1, white)));\n",
              "    --sklearn-color-icon: #878787;\n",
              "  }\n",
              "}\n",
              "\n",
              "#sk-container-id-1 {\n",
              "  color: var(--sklearn-color-text);\n",
              "}\n",
              "\n",
              "#sk-container-id-1 pre {\n",
              "  padding: 0;\n",
              "}\n",
              "\n",
              "#sk-container-id-1 input.sk-hidden--visually {\n",
              "  border: 0;\n",
              "  clip: rect(1px 1px 1px 1px);\n",
              "  clip: rect(1px, 1px, 1px, 1px);\n",
              "  height: 1px;\n",
              "  margin: -1px;\n",
              "  overflow: hidden;\n",
              "  padding: 0;\n",
              "  position: absolute;\n",
              "  width: 1px;\n",
              "}\n",
              "\n",
              "#sk-container-id-1 div.sk-dashed-wrapped {\n",
              "  border: 1px dashed var(--sklearn-color-line);\n",
              "  margin: 0 0.4em 0.5em 0.4em;\n",
              "  box-sizing: border-box;\n",
              "  padding-bottom: 0.4em;\n",
              "  background-color: var(--sklearn-color-background);\n",
              "}\n",
              "\n",
              "#sk-container-id-1 div.sk-container {\n",
              "  /* jupyter's `normalize.less` sets `[hidden] { display: none; }`\n",
              "     but bootstrap.min.css set `[hidden] { display: none !important; }`\n",
              "     so we also need the `!important` here to be able to override the\n",
              "     default hidden behavior on the sphinx rendered scikit-learn.org.\n",
              "     See: https://github.com/scikit-learn/scikit-learn/issues/21755 */\n",
              "  display: inline-block !important;\n",
              "  position: relative;\n",
              "}\n",
              "\n",
              "#sk-container-id-1 div.sk-text-repr-fallback {\n",
              "  display: none;\n",
              "}\n",
              "\n",
              "div.sk-parallel-item,\n",
              "div.sk-serial,\n",
              "div.sk-item {\n",
              "  /* draw centered vertical line to link estimators */\n",
              "  background-image: linear-gradient(var(--sklearn-color-text-on-default-background), var(--sklearn-color-text-on-default-background));\n",
              "  background-size: 2px 100%;\n",
              "  background-repeat: no-repeat;\n",
              "  background-position: center center;\n",
              "}\n",
              "\n",
              "/* Parallel-specific style estimator block */\n",
              "\n",
              "#sk-container-id-1 div.sk-parallel-item::after {\n",
              "  content: \"\";\n",
              "  width: 100%;\n",
              "  border-bottom: 2px solid var(--sklearn-color-text-on-default-background);\n",
              "  flex-grow: 1;\n",
              "}\n",
              "\n",
              "#sk-container-id-1 div.sk-parallel {\n",
              "  display: flex;\n",
              "  align-items: stretch;\n",
              "  justify-content: center;\n",
              "  background-color: var(--sklearn-color-background);\n",
              "  position: relative;\n",
              "}\n",
              "\n",
              "#sk-container-id-1 div.sk-parallel-item {\n",
              "  display: flex;\n",
              "  flex-direction: column;\n",
              "}\n",
              "\n",
              "#sk-container-id-1 div.sk-parallel-item:first-child::after {\n",
              "  align-self: flex-end;\n",
              "  width: 50%;\n",
              "}\n",
              "\n",
              "#sk-container-id-1 div.sk-parallel-item:last-child::after {\n",
              "  align-self: flex-start;\n",
              "  width: 50%;\n",
              "}\n",
              "\n",
              "#sk-container-id-1 div.sk-parallel-item:only-child::after {\n",
              "  width: 0;\n",
              "}\n",
              "\n",
              "/* Serial-specific style estimator block */\n",
              "\n",
              "#sk-container-id-1 div.sk-serial {\n",
              "  display: flex;\n",
              "  flex-direction: column;\n",
              "  align-items: center;\n",
              "  background-color: var(--sklearn-color-background);\n",
              "  padding-right: 1em;\n",
              "  padding-left: 1em;\n",
              "}\n",
              "\n",
              "\n",
              "/* Toggleable style: style used for estimator/Pipeline/ColumnTransformer box that is\n",
              "clickable and can be expanded/collapsed.\n",
              "- Pipeline and ColumnTransformer use this feature and define the default style\n",
              "- Estimators will overwrite some part of the style using the `sk-estimator` class\n",
              "*/\n",
              "\n",
              "/* Pipeline and ColumnTransformer style (default) */\n",
              "\n",
              "#sk-container-id-1 div.sk-toggleable {\n",
              "  /* Default theme specific background. It is overwritten whether we have a\n",
              "  specific estimator or a Pipeline/ColumnTransformer */\n",
              "  background-color: var(--sklearn-color-background);\n",
              "}\n",
              "\n",
              "/* Toggleable label */\n",
              "#sk-container-id-1 label.sk-toggleable__label {\n",
              "  cursor: pointer;\n",
              "  display: flex;\n",
              "  width: 100%;\n",
              "  margin-bottom: 0;\n",
              "  padding: 0.5em;\n",
              "  box-sizing: border-box;\n",
              "  text-align: center;\n",
              "  align-items: start;\n",
              "  justify-content: space-between;\n",
              "  gap: 0.5em;\n",
              "}\n",
              "\n",
              "#sk-container-id-1 label.sk-toggleable__label .caption {\n",
              "  font-size: 0.6rem;\n",
              "  font-weight: lighter;\n",
              "  color: var(--sklearn-color-text-muted);\n",
              "}\n",
              "\n",
              "#sk-container-id-1 label.sk-toggleable__label-arrow:before {\n",
              "  /* Arrow on the left of the label */\n",
              "  content: \"▸\";\n",
              "  float: left;\n",
              "  margin-right: 0.25em;\n",
              "  color: var(--sklearn-color-icon);\n",
              "}\n",
              "\n",
              "#sk-container-id-1 label.sk-toggleable__label-arrow:hover:before {\n",
              "  color: var(--sklearn-color-text);\n",
              "}\n",
              "\n",
              "/* Toggleable content - dropdown */\n",
              "\n",
              "#sk-container-id-1 div.sk-toggleable__content {\n",
              "  max-height: 0;\n",
              "  max-width: 0;\n",
              "  overflow: hidden;\n",
              "  text-align: left;\n",
              "  /* unfitted */\n",
              "  background-color: var(--sklearn-color-unfitted-level-0);\n",
              "}\n",
              "\n",
              "#sk-container-id-1 div.sk-toggleable__content.fitted {\n",
              "  /* fitted */\n",
              "  background-color: var(--sklearn-color-fitted-level-0);\n",
              "}\n",
              "\n",
              "#sk-container-id-1 div.sk-toggleable__content pre {\n",
              "  margin: 0.2em;\n",
              "  border-radius: 0.25em;\n",
              "  color: var(--sklearn-color-text);\n",
              "  /* unfitted */\n",
              "  background-color: var(--sklearn-color-unfitted-level-0);\n",
              "}\n",
              "\n",
              "#sk-container-id-1 div.sk-toggleable__content.fitted pre {\n",
              "  /* unfitted */\n",
              "  background-color: var(--sklearn-color-fitted-level-0);\n",
              "}\n",
              "\n",
              "#sk-container-id-1 input.sk-toggleable__control:checked~div.sk-toggleable__content {\n",
              "  /* Expand drop-down */\n",
              "  max-height: 200px;\n",
              "  max-width: 100%;\n",
              "  overflow: auto;\n",
              "}\n",
              "\n",
              "#sk-container-id-1 input.sk-toggleable__control:checked~label.sk-toggleable__label-arrow:before {\n",
              "  content: \"▾\";\n",
              "}\n",
              "\n",
              "/* Pipeline/ColumnTransformer-specific style */\n",
              "\n",
              "#sk-container-id-1 div.sk-label input.sk-toggleable__control:checked~label.sk-toggleable__label {\n",
              "  color: var(--sklearn-color-text);\n",
              "  background-color: var(--sklearn-color-unfitted-level-2);\n",
              "}\n",
              "\n",
              "#sk-container-id-1 div.sk-label.fitted input.sk-toggleable__control:checked~label.sk-toggleable__label {\n",
              "  background-color: var(--sklearn-color-fitted-level-2);\n",
              "}\n",
              "\n",
              "/* Estimator-specific style */\n",
              "\n",
              "/* Colorize estimator box */\n",
              "#sk-container-id-1 div.sk-estimator input.sk-toggleable__control:checked~label.sk-toggleable__label {\n",
              "  /* unfitted */\n",
              "  background-color: var(--sklearn-color-unfitted-level-2);\n",
              "}\n",
              "\n",
              "#sk-container-id-1 div.sk-estimator.fitted input.sk-toggleable__control:checked~label.sk-toggleable__label {\n",
              "  /* fitted */\n",
              "  background-color: var(--sklearn-color-fitted-level-2);\n",
              "}\n",
              "\n",
              "#sk-container-id-1 div.sk-label label.sk-toggleable__label,\n",
              "#sk-container-id-1 div.sk-label label {\n",
              "  /* The background is the default theme color */\n",
              "  color: var(--sklearn-color-text-on-default-background);\n",
              "}\n",
              "\n",
              "/* On hover, darken the color of the background */\n",
              "#sk-container-id-1 div.sk-label:hover label.sk-toggleable__label {\n",
              "  color: var(--sklearn-color-text);\n",
              "  background-color: var(--sklearn-color-unfitted-level-2);\n",
              "}\n",
              "\n",
              "/* Label box, darken color on hover, fitted */\n",
              "#sk-container-id-1 div.sk-label.fitted:hover label.sk-toggleable__label.fitted {\n",
              "  color: var(--sklearn-color-text);\n",
              "  background-color: var(--sklearn-color-fitted-level-2);\n",
              "}\n",
              "\n",
              "/* Estimator label */\n",
              "\n",
              "#sk-container-id-1 div.sk-label label {\n",
              "  font-family: monospace;\n",
              "  font-weight: bold;\n",
              "  display: inline-block;\n",
              "  line-height: 1.2em;\n",
              "}\n",
              "\n",
              "#sk-container-id-1 div.sk-label-container {\n",
              "  text-align: center;\n",
              "}\n",
              "\n",
              "/* Estimator-specific */\n",
              "#sk-container-id-1 div.sk-estimator {\n",
              "  font-family: monospace;\n",
              "  border: 1px dotted var(--sklearn-color-border-box);\n",
              "  border-radius: 0.25em;\n",
              "  box-sizing: border-box;\n",
              "  margin-bottom: 0.5em;\n",
              "  /* unfitted */\n",
              "  background-color: var(--sklearn-color-unfitted-level-0);\n",
              "}\n",
              "\n",
              "#sk-container-id-1 div.sk-estimator.fitted {\n",
              "  /* fitted */\n",
              "  background-color: var(--sklearn-color-fitted-level-0);\n",
              "}\n",
              "\n",
              "/* on hover */\n",
              "#sk-container-id-1 div.sk-estimator:hover {\n",
              "  /* unfitted */\n",
              "  background-color: var(--sklearn-color-unfitted-level-2);\n",
              "}\n",
              "\n",
              "#sk-container-id-1 div.sk-estimator.fitted:hover {\n",
              "  /* fitted */\n",
              "  background-color: var(--sklearn-color-fitted-level-2);\n",
              "}\n",
              "\n",
              "/* Specification for estimator info (e.g. \"i\" and \"?\") */\n",
              "\n",
              "/* Common style for \"i\" and \"?\" */\n",
              "\n",
              ".sk-estimator-doc-link,\n",
              "a:link.sk-estimator-doc-link,\n",
              "a:visited.sk-estimator-doc-link {\n",
              "  float: right;\n",
              "  font-size: smaller;\n",
              "  line-height: 1em;\n",
              "  font-family: monospace;\n",
              "  background-color: var(--sklearn-color-background);\n",
              "  border-radius: 1em;\n",
              "  height: 1em;\n",
              "  width: 1em;\n",
              "  text-decoration: none !important;\n",
              "  margin-left: 0.5em;\n",
              "  text-align: center;\n",
              "  /* unfitted */\n",
              "  border: var(--sklearn-color-unfitted-level-1) 1pt solid;\n",
              "  color: var(--sklearn-color-unfitted-level-1);\n",
              "}\n",
              "\n",
              ".sk-estimator-doc-link.fitted,\n",
              "a:link.sk-estimator-doc-link.fitted,\n",
              "a:visited.sk-estimator-doc-link.fitted {\n",
              "  /* fitted */\n",
              "  border: var(--sklearn-color-fitted-level-1) 1pt solid;\n",
              "  color: var(--sklearn-color-fitted-level-1);\n",
              "}\n",
              "\n",
              "/* On hover */\n",
              "div.sk-estimator:hover .sk-estimator-doc-link:hover,\n",
              ".sk-estimator-doc-link:hover,\n",
              "div.sk-label-container:hover .sk-estimator-doc-link:hover,\n",
              ".sk-estimator-doc-link:hover {\n",
              "  /* unfitted */\n",
              "  background-color: var(--sklearn-color-unfitted-level-3);\n",
              "  color: var(--sklearn-color-background);\n",
              "  text-decoration: none;\n",
              "}\n",
              "\n",
              "div.sk-estimator.fitted:hover .sk-estimator-doc-link.fitted:hover,\n",
              ".sk-estimator-doc-link.fitted:hover,\n",
              "div.sk-label-container:hover .sk-estimator-doc-link.fitted:hover,\n",
              ".sk-estimator-doc-link.fitted:hover {\n",
              "  /* fitted */\n",
              "  background-color: var(--sklearn-color-fitted-level-3);\n",
              "  color: var(--sklearn-color-background);\n",
              "  text-decoration: none;\n",
              "}\n",
              "\n",
              "/* Span, style for the box shown on hovering the info icon */\n",
              ".sk-estimator-doc-link span {\n",
              "  display: none;\n",
              "  z-index: 9999;\n",
              "  position: relative;\n",
              "  font-weight: normal;\n",
              "  right: .2ex;\n",
              "  padding: .5ex;\n",
              "  margin: .5ex;\n",
              "  width: min-content;\n",
              "  min-width: 20ex;\n",
              "  max-width: 50ex;\n",
              "  color: var(--sklearn-color-text);\n",
              "  box-shadow: 2pt 2pt 4pt #999;\n",
              "  /* unfitted */\n",
              "  background: var(--sklearn-color-unfitted-level-0);\n",
              "  border: .5pt solid var(--sklearn-color-unfitted-level-3);\n",
              "}\n",
              "\n",
              ".sk-estimator-doc-link.fitted span {\n",
              "  /* fitted */\n",
              "  background: var(--sklearn-color-fitted-level-0);\n",
              "  border: var(--sklearn-color-fitted-level-3);\n",
              "}\n",
              "\n",
              ".sk-estimator-doc-link:hover span {\n",
              "  display: block;\n",
              "}\n",
              "\n",
              "/* \"?\"-specific style due to the `<a>` HTML tag */\n",
              "\n",
              "#sk-container-id-1 a.estimator_doc_link {\n",
              "  float: right;\n",
              "  font-size: 1rem;\n",
              "  line-height: 1em;\n",
              "  font-family: monospace;\n",
              "  background-color: var(--sklearn-color-background);\n",
              "  border-radius: 1rem;\n",
              "  height: 1rem;\n",
              "  width: 1rem;\n",
              "  text-decoration: none;\n",
              "  /* unfitted */\n",
              "  color: var(--sklearn-color-unfitted-level-1);\n",
              "  border: var(--sklearn-color-unfitted-level-1) 1pt solid;\n",
              "}\n",
              "\n",
              "#sk-container-id-1 a.estimator_doc_link.fitted {\n",
              "  /* fitted */\n",
              "  border: var(--sklearn-color-fitted-level-1) 1pt solid;\n",
              "  color: var(--sklearn-color-fitted-level-1);\n",
              "}\n",
              "\n",
              "/* On hover */\n",
              "#sk-container-id-1 a.estimator_doc_link:hover {\n",
              "  /* unfitted */\n",
              "  background-color: var(--sklearn-color-unfitted-level-3);\n",
              "  color: var(--sklearn-color-background);\n",
              "  text-decoration: none;\n",
              "}\n",
              "\n",
              "#sk-container-id-1 a.estimator_doc_link.fitted:hover {\n",
              "  /* fitted */\n",
              "  background-color: var(--sklearn-color-fitted-level-3);\n",
              "}\n",
              "</style><div id=\"sk-container-id-1\" class=\"sk-top-container\"><div class=\"sk-text-repr-fallback\"><pre>LogisticRegression(max_iter=1000, random_state=42, solver=&#x27;liblinear&#x27;)</pre><b>In a Jupyter environment, please rerun this cell to show the HTML representation or trust the notebook. <br />On GitHub, the HTML representation is unable to render, please try loading this page with nbviewer.org.</b></div><div class=\"sk-container\" hidden><div class=\"sk-item\"><div class=\"sk-estimator fitted sk-toggleable\"><input class=\"sk-toggleable__control sk-hidden--visually\" id=\"sk-estimator-id-1\" type=\"checkbox\" checked><label for=\"sk-estimator-id-1\" class=\"sk-toggleable__label fitted sk-toggleable__label-arrow\"><div><div>LogisticRegression</div></div><div><a class=\"sk-estimator-doc-link fitted\" rel=\"noreferrer\" target=\"_blank\" href=\"https://scikit-learn.org/1.6/modules/generated/sklearn.linear_model.LogisticRegression.html\">?<span>Documentation for LogisticRegression</span></a><span class=\"sk-estimator-doc-link fitted\">i<span>Fitted</span></span></div></label><div class=\"sk-toggleable__content fitted\"><pre>LogisticRegression(max_iter=1000, random_state=42, solver=&#x27;liblinear&#x27;)</pre></div> </div></div></div></div>"
            ]
          },
          "metadata": {},
          "execution_count": 25
        }
      ]
    },
    {
      "cell_type": "code",
      "source": [
        "# Calculate accuracy on validation set\n",
        "y_pred_val = model.predict(X_val)\n",
        "accuracy_val = accuracy_score(y_val, y_pred_val)\n",
        "accuracy_val_rounded = round(accuracy_val, 2)\n",
        "\n",
        "print(f\"\\nValidation accuracy: {accuracy_val:.4f}\")\n",
        "print(f\"Validation accuracy (rounded to 2 decimals): {accuracy_val_rounded}\")\n"
      ],
      "metadata": {
        "colab": {
          "base_uri": "https://localhost:8080/"
        },
        "id": "L3LWZaKRAEJE",
        "outputId": "2a01c477-4445-4c00-dfb8-159a1049bc48"
      },
      "execution_count": 26,
      "outputs": [
        {
          "output_type": "stream",
          "name": "stdout",
          "text": [
            "\n",
            "Validation accuracy: 0.7432\n",
            "Validation accuracy (rounded to 2 decimals): 0.74\n"
          ]
        }
      ]
    },
    {
      "cell_type": "code",
      "source": [
        "# =============================================================================\n",
        "# QUESTION 5: Feature elimination\n",
        "# =============================================================================\n",
        "\n",
        "print(\"\\n\" + \"=\"*80)\n",
        "print(\"QUESTION 5\")\n",
        "print(\"=\"*80)"
      ],
      "metadata": {
        "colab": {
          "base_uri": "https://localhost:8080/"
        },
        "id": "YKjZRYDOALVx",
        "outputId": "83a43c18-6bf3-4f13-8ae5-c006ec39992d"
      },
      "execution_count": 27,
      "outputs": [
        {
          "output_type": "stream",
          "name": "stdout",
          "text": [
            "\n",
            "================================================================================\n",
            "QUESTION 5\n",
            "================================================================================\n"
          ]
        }
      ]
    },
    {
      "cell_type": "code",
      "source": [
        "# Get baseline accuracy (without rounding)\n",
        "baseline_accuracy = accuracy_val\n",
        "\n",
        "print(f\"\\nBaseline accuracy: {baseline_accuracy:.6f}\")"
      ],
      "metadata": {
        "colab": {
          "base_uri": "https://localhost:8080/"
        },
        "id": "rtMFkSgBAMDX",
        "outputId": "896bb75a-cbc4-4b4a-8ded-b797fc583af1"
      },
      "execution_count": 32,
      "outputs": [
        {
          "output_type": "stream",
          "name": "stdout",
          "text": [
            "\n",
            "Baseline accuracy: 0.743151\n"
          ]
        }
      ]
    },
    {
      "cell_type": "code",
      "source": [
        "# Test each feature by excluding it\n",
        "feature_importance = {}\n",
        "all_features = df_train.columns.tolist()\n",
        "\n",
        "print(\"\\nTesting all features:\")\n",
        "for feature in all_features:\n",
        "    # Create dataset without this feature\n",
        "    df_train_subset = df_train.drop(columns=[feature])\n",
        "    df_val_subset = df_val_features.drop(columns=[feature])\n",
        "\n",
        "    # Prepare data\n",
        "    train_dicts_subset = df_train_subset.to_dict(orient='records')\n",
        "    val_dicts_subset = df_val_subset.to_dict(orient='records')\n",
        "\n",
        "    dv_subset = DictVectorizer(sparse=False)\n",
        "    X_train_subset = dv_subset.fit_transform(train_dicts_subset)\n",
        "    X_val_subset = dv_subset.transform(val_dicts_subset)\n",
        "\n",
        "    # Train model\n",
        "    model_subset = LogisticRegression(solver='liblinear', C=1.0, max_iter=1000, random_state=42)\n",
        "    model_subset.fit(X_train_subset, y_train)\n",
        "\n",
        "    # Calculate accuracy\n",
        "    y_pred_subset = model_subset.predict(X_val_subset)\n",
        "    accuracy_subset = accuracy_score(y_val, y_pred_subset)\n",
        "\n",
        "    # Calculate difference\n",
        "    diff = baseline_accuracy - accuracy_subset\n",
        "    feature_importance[feature] = diff\n",
        "\n",
        "    print(f\"{feature}: accuracy={accuracy_subset:.6f}, diff={diff:.6f}\")"
      ],
      "metadata": {
        "colab": {
          "base_uri": "https://localhost:8080/"
        },
        "id": "rNEXTnoXAQJn",
        "outputId": "45d4c031-b645-4c80-e36c-46c50d7c78db"
      },
      "execution_count": 33,
      "outputs": [
        {
          "output_type": "stream",
          "name": "stdout",
          "text": [
            "\n",
            "Testing all features:\n",
            "lead_source: accuracy=0.729452, diff=0.013699\n",
            "industry: accuracy=0.743151, diff=0.000000\n",
            "number_of_courses_viewed: accuracy=0.678082, diff=0.065068\n",
            "annual_income: accuracy=0.856164, diff=-0.113014\n",
            "employment_status: accuracy=0.746575, diff=-0.003425\n",
            "location: accuracy=0.743151, diff=0.000000\n",
            "interaction_count: accuracy=0.674658, diff=0.068493\n",
            "lead_score: accuracy=0.743151, diff=0.000000\n"
          ]
        }
      ]
    },
    {
      "cell_type": "code",
      "source": [
        "# Find feature with smallest difference among ALL features\n",
        "min_diff_feature_all = min(feature_importance, key=feature_importance.get)\n",
        "print(f\"\\nFeature with smallest difference (all features): {min_diff_feature_all} ({feature_importance[min_diff_feature_all]:.6f})\")\n"
      ],
      "metadata": {
        "colab": {
          "base_uri": "https://localhost:8080/"
        },
        "id": "GadEFamPARB4",
        "outputId": "39ea39ad-5a5e-40e1-d7ad-b2fdf5aaa578"
      },
      "execution_count": 34,
      "outputs": [
        {
          "output_type": "stream",
          "name": "stdout",
          "text": [
            "\n",
            "Feature with smallest difference (all features): annual_income (-0.113014)\n"
          ]
        }
      ]
    },
    {
      "cell_type": "code",
      "source": [
        "# Now check only the options given in the question\n",
        "print(\"\\n\" + \"-\"*80)\n",
        "print(\"Checking only the features mentioned in Question 5:\")\n",
        "features_to_check = ['industry', 'employment_status', 'lead_score']\n",
        "\n",
        "for feature in features_to_check:\n",
        "    if feature in feature_importance:\n",
        "        print(f\"{feature}: diff={feature_importance[feature]:.6f}\")"
      ],
      "metadata": {
        "colab": {
          "base_uri": "https://localhost:8080/"
        },
        "id": "yH-OTHgPBDo-",
        "outputId": "c6bae612-6309-4849-9bc9-db7c2c18b37f"
      },
      "execution_count": 35,
      "outputs": [
        {
          "output_type": "stream",
          "name": "stdout",
          "text": [
            "\n",
            "--------------------------------------------------------------------------------\n",
            "Checking only the features mentioned in Question 5:\n",
            "industry: diff=0.000000\n",
            "employment_status: diff=-0.003425\n",
            "lead_score: diff=0.000000\n"
          ]
        }
      ]
    },
    {
      "cell_type": "code",
      "source": [
        "# Find feature with smallest difference among the given options\n",
        "min_diff_feature_q5 = min(features_to_check, key=lambda x: feature_importance.get(x, float('inf')))\n",
        "print(f\"\\nAnswer to Question 5: {min_diff_feature_q5} ({feature_importance[min_diff_feature_q5]:.6f})\")\n"
      ],
      "metadata": {
        "colab": {
          "base_uri": "https://localhost:8080/"
        },
        "id": "kwGDlwVtBIWC",
        "outputId": "538db76e-d173-49d2-e20b-5e2c2cccffff"
      },
      "execution_count": 36,
      "outputs": [
        {
          "output_type": "stream",
          "name": "stdout",
          "text": [
            "\n",
            "Answer to Question 5: employment_status (-0.003425)\n"
          ]
        }
      ]
    },
    {
      "cell_type": "code",
      "source": [
        "# =============================================================================\n",
        "# QUESTION 6: Regularized logistic regression\n",
        "# =============================================================================\n",
        "\n",
        "print(\"\\n\" + \"=\"*80)\n",
        "print(\"QUESTION 6\")\n",
        "print(\"=\"*80)"
      ],
      "metadata": {
        "colab": {
          "base_uri": "https://localhost:8080/"
        },
        "id": "nrcb-lG6BOqP",
        "outputId": "0979af06-9985-4bd2-e5d1-63ae43c19660"
      },
      "execution_count": 37,
      "outputs": [
        {
          "output_type": "stream",
          "name": "stdout",
          "text": [
            "\n",
            "================================================================================\n",
            "QUESTION 6\n",
            "================================================================================\n"
          ]
        }
      ]
    },
    {
      "cell_type": "code",
      "source": [
        "# Test different C values\n",
        "C_values = [0.01, 0.1, 1, 10, 100]\n",
        "results = {}\n",
        "\n",
        "for C in C_values:\n",
        "    # Train model with this C value\n",
        "    model_c = LogisticRegression(solver='liblinear', C=C, max_iter=1000, random_state=42)\n",
        "    model_c.fit(X_train, y_train)\n",
        "\n",
        "    # Calculate accuracy on validation set\n",
        "    y_pred_c = model_c.predict(X_val)\n",
        "    accuracy_c = accuracy_score(y_val, y_pred_c)\n",
        "    accuracy_c_rounded = round(accuracy_c, 3)\n",
        "\n",
        "    results[C] = accuracy_c_rounded\n",
        "    print(f\"C={C}: accuracy={accuracy_c_rounded}\")"
      ],
      "metadata": {
        "colab": {
          "base_uri": "https://localhost:8080/"
        },
        "id": "oWRD6cdOBSZV",
        "outputId": "b5bc0205-410a-440c-aa59-0335f44d3ead"
      },
      "execution_count": 42,
      "outputs": [
        {
          "output_type": "stream",
          "name": "stdout",
          "text": [
            "C=0.01: accuracy=0.743\n",
            "C=0.1: accuracy=0.743\n",
            "C=1: accuracy=0.743\n",
            "C=10: accuracy=0.743\n",
            "C=100: accuracy=0.743\n"
          ]
        }
      ]
    },
    {
      "cell_type": "code",
      "source": [
        "# Find best C value\n",
        "best_accuracy = max(results.values())\n",
        "best_c_values = [c for c, acc in results.items() if acc == best_accuracy]\n",
        "best_c_final = min(best_c_values)\n",
        "\n",
        "print(f\"\\nBest accuracy: {best_accuracy}\")\n",
        "print(f\"C values with best accuracy: {best_c_values}\")\n",
        "print(f\"Best C value (smallest if tie): {best_c_final}\")"
      ],
      "metadata": {
        "colab": {
          "base_uri": "https://localhost:8080/"
        },
        "id": "J2NYZStzBpZV",
        "outputId": "ed791e7a-d617-49d1-8b86-75a7de18b09c"
      },
      "execution_count": 43,
      "outputs": [
        {
          "output_type": "stream",
          "name": "stdout",
          "text": [
            "\n",
            "Best accuracy: 0.743\n",
            "C values with best accuracy: [0.01, 0.1, 1, 10, 100]\n",
            "Best C value (smallest if tie): 0.01\n"
          ]
        }
      ]
    },
    {
      "cell_type": "code",
      "source": [
        "# =============================================================================\n",
        "# SUMMARY OF ANSWERS\n",
        "# =============================================================================\n",
        "\n",
        "print(\"\\n\" + \"=\"*80)\n",
        "print(\"SUMMARY OF ANSWERS\")\n",
        "print(\"=\"*80)\n",
        "\n",
        "print(f\"\\nQuestion 1: Most frequent observation for 'industry': {mode_industry}\")\n",
        "print(f\"Question 2: Pair with biggest correlation: {max_pair[0]} and {max_pair[1]}\")\n",
        "print(f\"Question 3: Feature with highest mutual information: {max_mi_feature}\")\n",
        "print(f\"Question 4: Validation accuracy: {accuracy_val_rounded}\")\n",
        "print(f\"Question 5: Feature with smallest difference: {min_diff_feature_q5}\")\n",
        "print(f\"Question 6: Best C value: {best_c_final}\")"
      ],
      "metadata": {
        "colab": {
          "base_uri": "https://localhost:8080/"
        },
        "id": "IlxZP2sACECt",
        "outputId": "a28d6a55-6298-415c-9b5e-4a80a203d6b4"
      },
      "execution_count": 44,
      "outputs": [
        {
          "output_type": "stream",
          "name": "stdout",
          "text": [
            "\n",
            "================================================================================\n",
            "SUMMARY OF ANSWERS\n",
            "================================================================================\n",
            "\n",
            "Question 1: Most frequent observation for 'industry': retail\n",
            "Question 2: Pair with biggest correlation: annual_income and interaction_count\n",
            "Question 3: Feature with highest mutual information: lead_source\n",
            "Question 4: Validation accuracy: 0.74\n",
            "Question 5: Feature with smallest difference: employment_status\n",
            "Question 6: Best C value: 0.01\n"
          ]
        }
      ]
    }
  ]
}