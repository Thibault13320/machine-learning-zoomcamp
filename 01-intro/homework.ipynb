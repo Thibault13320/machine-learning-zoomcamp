{
  "nbformat": 4,
  "nbformat_minor": 0,
  "metadata": {
    "colab": {
      "provenance": [],
      "authorship_tag": "ABX9TyNavnLm5n11m4Nsn3ZMEJek",
      "include_colab_link": true
    },
    "kernelspec": {
      "name": "python3",
      "display_name": "Python 3"
    },
    "language_info": {
      "name": "python"
    }
  },
  "cells": [
    {
      "cell_type": "markdown",
      "metadata": {
        "id": "view-in-github",
        "colab_type": "text"
      },
      "source": [
        "<a href=\"https://colab.research.google.com/github/Thibault13320/machine-learning-zoomcamp/blob/main/01-intro/homework.ipynb\" target=\"_parent\"><img src=\"https://colab.research.google.com/assets/colab-badge.svg\" alt=\"Open In Colab\"/></a>"
      ]
    },
    {
      "cell_type": "code",
      "execution_count": null,
      "metadata": {
        "id": "LXwMM0sgHbPp"
      },
      "outputs": [],
      "source": [
        "#Setting up the environment\n",
        "import pandas as pd\n",
        "import numpy as np\n",
        "\n",
        "import seaborn as sns\n",
        "from matplotlib import pyplot as plt\n",
        "%matplotlib inline"
      ]
    },
    {
      "cell_type": "code",
      "source": [
        "print(\"\\n\" + \"=\"*50)\n",
        "print(\"Q1: Pandas version\")\n",
        "print(\"=\"*50)\n",
        "print(f\"Pandas version: {pd.__version__}\")"
      ],
      "metadata": {
        "colab": {
          "base_uri": "https://localhost:8080/"
        },
        "id": "g4HaSE7wJ6EN",
        "outputId": "4b9fa763-48ce-4518-e661-ccfd3cb2041a"
      },
      "execution_count": null,
      "outputs": [
        {
          "output_type": "stream",
          "name": "stdout",
          "text": [
            "\n",
            "==================================================\n",
            "Q1: Pandas version\n",
            "==================================================\n",
            "Pandas version: 2.2.2\n"
          ]
        }
      ]
    },
    {
      "cell_type": "code",
      "source": [
        "# Download the dataset\n",
        "!wget https://raw.githubusercontent.com/alexeygrigorev/datasets/master/car_fuel_efficiency.csv"
      ],
      "metadata": {
        "colab": {
          "base_uri": "https://localhost:8080/"
        },
        "id": "8YfMUoX2Kj23",
        "outputId": "177166b8-3732-4f11-b409-93d83dead9cf"
      },
      "execution_count": null,
      "outputs": [
        {
          "output_type": "stream",
          "name": "stdout",
          "text": [
            "--2025-10-02 18:23:44--  https://raw.githubusercontent.com/alexeygrigorev/datasets/master/car_fuel_efficiency.csv\n",
            "Resolving raw.githubusercontent.com (raw.githubusercontent.com)... 185.199.108.133, 185.199.109.133, 185.199.111.133, ...\n",
            "Connecting to raw.githubusercontent.com (raw.githubusercontent.com)|185.199.108.133|:443... connected.\n",
            "HTTP request sent, awaiting response... 200 OK\n",
            "Length: 874188 (854K) [text/plain]\n",
            "Saving to: ‘car_fuel_efficiency.csv’\n",
            "\n",
            "car_fuel_efficiency 100%[===================>] 853.70K  --.-KB/s    in 0.03s   \n",
            "\n",
            "2025-10-02 18:23:44 (29.4 MB/s) - ‘car_fuel_efficiency.csv’ saved [874188/874188]\n",
            "\n"
          ]
        }
      ]
    },
    {
      "cell_type": "code",
      "source": [
        "# Read the dataset\n",
        "df = pd.read_csv('car_fuel_efficiency.csv')\n",
        "\n",
        "print(\"Dataset loaded successfully!\")\n",
        "print(f\"Dataset shape: {df.shape}\")\n",
        "print(\"\\nFirst few rows:\")\n",
        "print(df.head())"
      ],
      "metadata": {
        "colab": {
          "base_uri": "https://localhost:8080/"
        },
        "id": "Eix1Lcx0K4g1",
        "outputId": "a444dfd1-ca23-427b-abca-1b46b124f942"
      },
      "execution_count": null,
      "outputs": [
        {
          "output_type": "stream",
          "name": "stdout",
          "text": [
            "Dataset loaded successfully!\n",
            "Dataset shape: (9704, 11)\n",
            "\n",
            "First few rows:\n",
            "   engine_displacement  num_cylinders  horsepower  vehicle_weight  \\\n",
            "0                  170            3.0       159.0     3413.433759   \n",
            "1                  130            5.0        97.0     3149.664934   \n",
            "2                  170            NaN        78.0     3079.038997   \n",
            "3                  220            4.0         NaN     2542.392402   \n",
            "4                  210            1.0       140.0     3460.870990   \n",
            "\n",
            "   acceleration  model_year  origin fuel_type         drivetrain  num_doors  \\\n",
            "0          17.7        2003  Europe  Gasoline    All-wheel drive        0.0   \n",
            "1          17.8        2007     USA  Gasoline  Front-wheel drive        0.0   \n",
            "2          15.1        2018  Europe  Gasoline  Front-wheel drive        0.0   \n",
            "3          20.2        2009     USA    Diesel    All-wheel drive        2.0   \n",
            "4          14.4        2009  Europe  Gasoline    All-wheel drive        2.0   \n",
            "\n",
            "   fuel_efficiency_mpg  \n",
            "0            13.231729  \n",
            "1            13.688217  \n",
            "2            14.246341  \n",
            "3            16.912736  \n",
            "4            12.488369  \n"
          ]
        }
      ]
    },
    {
      "cell_type": "code",
      "source": [
        "print(\"\\n\" + \"=\"*50)\n",
        "print(\"Q2: Records count\")\n",
        "print(\"=\"*50)\n",
        "records_count = len(df)\n",
        "print(f\"Number of records in the dataset: {records_count}\")"
      ],
      "metadata": {
        "colab": {
          "base_uri": "https://localhost:8080/"
        },
        "id": "iw_a5AO1LQdx",
        "outputId": "f135f2d3-fe47-4bf7-ee39-f76d0ffe456b"
      },
      "execution_count": null,
      "outputs": [
        {
          "output_type": "stream",
          "name": "stdout",
          "text": [
            "\n",
            "==================================================\n",
            "Q2: Records count\n",
            "==================================================\n",
            "Number of records in the dataset: 9704\n"
          ]
        }
      ]
    },
    {
      "cell_type": "code",
      "source": [
        "print(\"\\n\" + \"=\"*50)\n",
        "print(\"Q3: Fuel types\")\n",
        "print(\"=\"*50)\n",
        "fuel_types = df['fuel_type'].nunique()\n",
        "print(f\"Number of unique fuel types: {fuel_types}\")\n",
        "print(f\"Fuel types: {df['fuel_type'].unique()}\")"
      ],
      "metadata": {
        "colab": {
          "base_uri": "https://localhost:8080/"
        },
        "id": "YYCjkpYQLppX",
        "outputId": "7af33f99-fd54-4850-b1f0-4b164279b779"
      },
      "execution_count": null,
      "outputs": [
        {
          "output_type": "stream",
          "name": "stdout",
          "text": [
            "\n",
            "==================================================\n",
            "Q3: Fuel types\n",
            "==================================================\n",
            "Number of unique fuel types: 2\n",
            "Fuel types: ['Gasoline' 'Diesel']\n"
          ]
        }
      ]
    },
    {
      "cell_type": "code",
      "source": [
        "print(\"\\n\" + \"=\"*50)\n",
        "print(\"Q4: Missing values\")\n",
        "print(\"=\"*50)\n",
        "missing_values = df.isnull().sum()\n",
        "columns_with_missing = (missing_values > 0).sum()\n",
        "print(f\"Number of columns with missing values: {columns_with_missing}\")\n",
        "print(\"\\nMissing values per column:\")\n",
        "print(missing_values[missing_values > 0])"
      ],
      "metadata": {
        "colab": {
          "base_uri": "https://localhost:8080/"
        },
        "id": "YknPMurqL05-",
        "outputId": "23981a52-8a37-4d8a-97ad-5345bcb5227c"
      },
      "execution_count": null,
      "outputs": [
        {
          "output_type": "stream",
          "name": "stdout",
          "text": [
            "\n",
            "==================================================\n",
            "Q4: Missing values\n",
            "==================================================\n",
            "Number of columns with missing values: 4\n",
            "\n",
            "Missing values per column:\n",
            "num_cylinders    482\n",
            "horsepower       708\n",
            "acceleration     930\n",
            "num_doors        502\n",
            "dtype: int64\n"
          ]
        }
      ]
    },
    {
      "cell_type": "code",
      "source": [
        "print(\"\\n\" + \"=\"*50)\n",
        "print(\"Q5: Max fuel efficiency from Asia\")\n",
        "print(\"=\"*50)"
      ],
      "metadata": {
        "colab": {
          "base_uri": "https://localhost:8080/"
        },
        "id": "bkE3QnJwMk1t",
        "outputId": "34a40bdf-f5e5-4d04-e13d-8517872c64f7"
      },
      "execution_count": null,
      "outputs": [
        {
          "output_type": "stream",
          "name": "stdout",
          "text": [
            "\n",
            "==================================================\n",
            "Q5: Max fuel efficiency from Asia\n",
            "==================================================\n"
          ]
        }
      ]
    },
    {
      "cell_type": "code",
      "source": [
        "# First check what origins we have\n",
        "print(\"Available origins:\", df['origin'].unique())"
      ],
      "metadata": {
        "colab": {
          "base_uri": "https://localhost:8080/"
        },
        "id": "EDijQn5hMoxf",
        "outputId": "05d7c5bc-e262-40e4-ca11-090f33d525ef"
      },
      "execution_count": null,
      "outputs": [
        {
          "output_type": "stream",
          "name": "stdout",
          "text": [
            "Available origins: ['Europe' 'USA' 'Asia']\n"
          ]
        }
      ]
    },
    {
      "cell_type": "code",
      "source": [
        "# Filter for Asia (adjust if the value is different)\n",
        "asia_cars = df[df['origin'] == 'Asia']\n",
        "print(f\"Number of Asian cars: {len(asia_cars)}\")"
      ],
      "metadata": {
        "colab": {
          "base_uri": "https://localhost:8080/"
        },
        "id": "GsyeW4EPMOOr",
        "outputId": "43807efd-9651-4db5-d213-256befdd3be6"
      },
      "execution_count": null,
      "outputs": [
        {
          "output_type": "stream",
          "name": "stdout",
          "text": [
            "Number of Asian cars: 3247\n"
          ]
        }
      ]
    },
    {
      "cell_type": "code",
      "source": [
        "# Get max fuel efficiency\n",
        "max_fuel_efficiency = asia_cars['fuel_efficiency_mpg'].max()\n",
        "print(f\"Maximum fuel efficiency of cars from Asia: {max_fuel_efficiency}\")"
      ],
      "metadata": {
        "colab": {
          "base_uri": "https://localhost:8080/"
        },
        "id": "H0rYSKjCNBbO",
        "outputId": "8ce5326c-cd8a-4b54-f9ff-ed5b7bdd3289"
      },
      "execution_count": null,
      "outputs": [
        {
          "output_type": "stream",
          "name": "stdout",
          "text": [
            "Maximum fuel efficiency of cars from Asia: 23.759122836520497\n"
          ]
        }
      ]
    },
    {
      "cell_type": "code",
      "source": [
        "print(\"\\n\" + \"=\"*50)\n",
        "print(\"Q6: Median value of horsepower\")\n",
        "print(\"=\"*50)"
      ],
      "metadata": {
        "id": "qa2KdoBLbDgq",
        "colab": {
          "base_uri": "https://localhost:8080/"
        },
        "outputId": "12d94338-8ca2-4875-f167-7e619eb48d58"
      },
      "execution_count": null,
      "outputs": [
        {
          "output_type": "stream",
          "name": "stdout",
          "text": [
            "\n",
            "==================================================\n",
            "Q6: Median value of horsepower\n",
            "==================================================\n"
          ]
        }
      ]
    },
    {
      "cell_type": "code",
      "source": [
        "#Find the median value of horsepower\n",
        "median_before = df['horsepower'].median()\n",
        "print(f\"Median horsepower (before filling): {median_before}\")"
      ],
      "metadata": {
        "id": "Lb3DTt6AbK4B",
        "colab": {
          "base_uri": "https://localhost:8080/"
        },
        "outputId": "cb537418-1e91-4516-edc5-db2268bb0851"
      },
      "execution_count": null,
      "outputs": [
        {
          "output_type": "stream",
          "name": "stdout",
          "text": [
            "Median horsepower (before filling): 149.0\n"
          ]
        }
      ]
    },
    {
      "cell_type": "code",
      "source": [
        "#Calculate the most frequent value\n",
        "mode_horsepower = df['horsepower'].mode()[0]\n",
        "print(f\"Most frequent horsepower value: {mode_horsepower}\")"
      ],
      "metadata": {
        "id": "gIH_aMN3bL32",
        "colab": {
          "base_uri": "https://localhost:8080/"
        },
        "outputId": "031a5b46-59ed-4ccb-987a-46a516e39741"
      },
      "execution_count": null,
      "outputs": [
        {
          "output_type": "stream",
          "name": "stdout",
          "text": [
            "Most frequent horsepower value: 152.0\n"
          ]
        }
      ]
    },
    {
      "cell_type": "code",
      "source": [
        "#Fill missing values with the most frequent value\n",
        "df['horsepower'] = df['horsepower'].fillna(mode_horsepower)"
      ],
      "metadata": {
        "id": "A058UOczbQAL"
      },
      "execution_count": null,
      "outputs": []
    },
    {
      "cell_type": "code",
      "source": [
        "#Calculate median again\n",
        "median_after = df['horsepower'].median()\n",
        "print(f\"Median horsepower (after filling): {median_after}\")"
      ],
      "metadata": {
        "id": "RqrBeOtJbSTE",
        "colab": {
          "base_uri": "https://localhost:8080/"
        },
        "outputId": "ffd17930-b968-4145-aea5-8527d58046fc"
      },
      "execution_count": null,
      "outputs": [
        {
          "output_type": "stream",
          "name": "stdout",
          "text": [
            "Median horsepower (after filling): 152.0\n"
          ]
        }
      ]
    },
    {
      "cell_type": "code",
      "source": [
        "#Check if it changed\n",
        "if median_after > median_before:\n",
        "    print(\"Answer: Yes, it increased\")\n",
        "elif median_after < median_before:\n",
        "    print(\"Answer: Yes, it decreased\")\n",
        "else:\n",
        "    print(\"Answer: No, it stayed the same\")"
      ],
      "metadata": {
        "id": "yWJqYpjtbVfA",
        "colab": {
          "base_uri": "https://localhost:8080/"
        },
        "outputId": "29201c9d-b1f9-407a-b73a-7d47bfd035de"
      },
      "execution_count": null,
      "outputs": [
        {
          "output_type": "stream",
          "name": "stdout",
          "text": [
            "Answer: Yes, it increased\n"
          ]
        }
      ]
    },
    {
      "cell_type": "code",
      "source": [
        "print(\"\\n\" + \"=\"*50)\n",
        "print(\"Q7: Sum of weights (Linear Regression)\")\n",
        "print(\"=\"*50)"
      ],
      "metadata": {
        "colab": {
          "base_uri": "https://localhost:8080/"
        },
        "id": "NTCybSc1cg_-",
        "outputId": "1c1a04b7-173c-4eb7-fb8c-c63d2891088f"
      },
      "execution_count": null,
      "outputs": [
        {
          "output_type": "stream",
          "name": "stdout",
          "text": [
            "\n",
            "==================================================\n",
            "Q7: Sum of weights (Linear Regression)\n",
            "==================================================\n"
          ]
        }
      ]
    },
    {
      "cell_type": "code",
      "source": [
        "#Select all cars from Asia\n",
        "asia_cars = df[df['origin'] == 'Asia']\n",
        "print(f\"Number of Asian cars: {len(asia_cars)}\")"
      ],
      "metadata": {
        "colab": {
          "base_uri": "https://localhost:8080/"
        },
        "id": "y93NR2YScnwj",
        "outputId": "159e4205-978a-4d5a-ace0-3e04c33ff6c9"
      },
      "execution_count": null,
      "outputs": [
        {
          "output_type": "stream",
          "name": "stdout",
          "text": [
            "Number of Asian cars: 3247\n"
          ]
        }
      ]
    },
    {
      "cell_type": "code",
      "source": [
        "#Select only columns vehicle_weight and model_year\n",
        "selected_cols = asia_cars[['vehicle_weight', 'model_year']]"
      ],
      "metadata": {
        "id": "PeKLeTJbdJ_o"
      },
      "execution_count": null,
      "outputs": []
    },
    {
      "cell_type": "code",
      "source": [
        "#Select the first 7 values\n",
        "first_7 = selected_cols.head(7)\n",
        "print(\"First 7 rows:\")\n",
        "print(first_7)"
      ],
      "metadata": {
        "colab": {
          "base_uri": "https://localhost:8080/"
        },
        "id": "kmRuoQh_dPEI",
        "outputId": "f814b4ab-429b-45dd-afbf-ae949360ba8b"
      },
      "execution_count": null,
      "outputs": [
        {
          "output_type": "stream",
          "name": "stdout",
          "text": [
            "First 7 rows:\n",
            "    vehicle_weight  model_year\n",
            "8      2714.219310        2016\n",
            "12     2783.868974        2010\n",
            "14     3582.687368        2007\n",
            "20     2231.808142        2011\n",
            "21     2659.431451        2016\n",
            "34     2844.227534        2014\n",
            "38     3761.994038        2019\n"
          ]
        }
      ]
    },
    {
      "cell_type": "code",
      "source": [
        "#Get the underlying NumPy array\n",
        "X = first_7.values\n",
        "print(f\"\\nX shape: {X.shape}\")"
      ],
      "metadata": {
        "colab": {
          "base_uri": "https://localhost:8080/"
        },
        "id": "zJlqbsEmdSbx",
        "outputId": "07da00e2-998e-48c7-8fe9-7082fe7378b1"
      },
      "execution_count": null,
      "outputs": [
        {
          "output_type": "stream",
          "name": "stdout",
          "text": [
            "\n",
            "X shape: (7, 2)\n"
          ]
        }
      ]
    },
    {
      "cell_type": "code",
      "source": [
        "#Compute XTX (X transpose times X)\n",
        "XTX = X.T @ X\n",
        "print(f\"\\nXTX:\")\n",
        "print(XTX)"
      ],
      "metadata": {
        "colab": {
          "base_uri": "https://localhost:8080/"
        },
        "id": "dPZQAeOfdWEW",
        "outputId": "890d6c60-569a-4041-af31-f49323579a56"
      },
      "execution_count": null,
      "outputs": [
        {
          "output_type": "stream",
          "name": "stdout",
          "text": [
            "\n",
            "XTX:\n",
            "[[62248334.33150762 41431216.5073268 ]\n",
            " [41431216.5073268  28373339.        ]]\n"
          ]
        }
      ]
    },
    {
      "cell_type": "code",
      "source": [
        "#Invert XTX\n",
        "XTX_inv = np.linalg.inv(XTX)\n",
        "print(f\"\\nInverse of XTX:\")\n",
        "print(XTX_inv)"
      ],
      "metadata": {
        "colab": {
          "base_uri": "https://localhost:8080/"
        },
        "id": "FtBqlqh3dXsR",
        "outputId": "8ce937f9-1df8-4e59-a66b-4ec5933dec34"
      },
      "execution_count": null,
      "outputs": [
        {
          "output_type": "stream",
          "name": "stdout",
          "text": [
            "\n",
            "Inverse of XTX:\n",
            "[[ 5.71497081e-07 -8.34509443e-07]\n",
            " [-8.34509443e-07  1.25380877e-06]]\n"
          ]
        }
      ]
    },
    {
      "cell_type": "code",
      "source": [
        "#Create array y\n",
        "y = np.array([1100, 1300, 800, 900, 1000, 1100, 1200])"
      ],
      "metadata": {
        "id": "9yis956ddd1Q"
      },
      "execution_count": null,
      "outputs": []
    },
    {
      "cell_type": "code",
      "source": [
        "#Multiply inverse of XTX with transpose of X, then multiply by y\n",
        "w = XTX_inv @ X.T @ y\n",
        "print(f\"\\nw (weights):\")\n",
        "print(w)"
      ],
      "metadata": {
        "colab": {
          "base_uri": "https://localhost:8080/"
        },
        "id": "1_O4NDtAdghJ",
        "outputId": "5b0b1ec5-3a2f-4dc7-ba14-d07607ceb813"
      },
      "execution_count": null,
      "outputs": [
        {
          "output_type": "stream",
          "name": "stdout",
          "text": [
            "\n",
            "w (weights):\n",
            "[0.01386421 0.5049067 ]\n"
          ]
        }
      ]
    },
    {
      "cell_type": "code",
      "source": [
        "#Sum of all elements\n",
        "sum_w = w.sum()\n",
        "print(f\"\\nSum of all elements in w: {sum_w}\")\n",
        "print(f\"Rounded to 2 decimal places: {sum_w:.2f}\")"
      ],
      "metadata": {
        "colab": {
          "base_uri": "https://localhost:8080/"
        },
        "id": "51hB7RP5djPJ",
        "outputId": "10531778-609c-4de8-837e-58e4c689daaa"
      },
      "execution_count": null,
      "outputs": [
        {
          "output_type": "stream",
          "name": "stdout",
          "text": [
            "\n",
            "Sum of all elements in w: 0.5187709081074016\n",
            "Rounded to 2 decimal places: 0.52\n"
          ]
        }
      ]
    }
  ]
}